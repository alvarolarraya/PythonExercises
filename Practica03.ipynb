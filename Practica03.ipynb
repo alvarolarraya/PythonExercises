{
 "cells": [
  {
   "cell_type": "markdown",
   "metadata": {},
   "source": [
    "# Práctica 03. Sentencias iterativas."
   ]
  },
  {
   "cell_type": "markdown",
   "metadata": {},
   "source": [
    "### Recuerda que para realizar estos ejecicios deberás usar las sentecias *while* y *for_in*."
   ]
  },
  {
   "cell_type": "markdown",
   "metadata": {},
   "source": [
    "# Índice de ejercicios\n",
    "\n",
    "[P3_01. Cuenta pares](#P3_01.)  \n",
    "[P3_02. Cuenta letras a](#P3_02.)  \n",
    "[P3_03. Impares en posición par](#*P3_03.)  \n",
    "[P3_04. Posición del menor](#P3_04.)  \n",
    "[P3_05. Número primo](#*P3_05.)  \n",
    "[P3_06. Mayor que 10](#P3_06.)  \n",
    "[P3_07. Suma con caracteres](#P3_07.)  \n",
    "[P3_08. Intervalo](#P3_08.)  \n",
    "[P3_09. Suma hasta 2000](#*P3_09.)  \n",
    "[P3_10. MCD](#*P3_10.)  \n",
    "[P3_11. Progresión](#P3_11.)  \n",
    "[P3_12. Mayor diferencia](#P3_12.)  \n",
    "[P3_13. Cuenta 'a7'](#*P3_13.)      \n",
    "[P3_14. Triángulo numérico](#P3_14.)     \n",
    "[P3_15. Cuadrado numérico](#*P3_15.)   \n",
    "[P3_16. Pares tras impar](#P3_16.)   \n",
    "[P3_17. Mayor que precedente](#*P3_17.)  \n",
    "[P3_18. Positivos y negativos](#P3_18.)   "
   ]
  },
  {
   "cell_type": "markdown",
   "metadata": {},
   "source": [
    "### *P3_01.  \n",
    "Escribe un programa que lea una secuencia de enteros terminada en 0 y devuelva la cantidad de números pares que contiene.  \n",
    "Nota: No contamos el 0 final.  \n",
    "Ejemplo:  \n",
    "~~~\n",
    "Introduce un número: 3\n",
    "Introduce otro número: 6\n",
    "Introduce otro número: 2\n",
    "Introduce otro número: 0\n",
    "Hay 2 pares\n",
    "\n",
    "~~~\n"
   ]
  },
  {
   "cell_type": "code",
   "execution_count": 28,
   "metadata": {},
   "outputs": [
    {
     "name": "stdout",
     "output_type": "stream",
     "text": [
      "Introduzca un número entero: 3\n",
      "Introduzca otro número entero: 6\n",
      "Introduzca otro número entero: 2\n",
      "Introduzca otro número entero: 0\n",
      "De entre la secuencia de números enteros que ha introducido 2 son pares\n"
     ]
    }
   ],
   "source": [
    "n= int(input(\"Introduzca un número entero: \"))\n",
    "pares= 0\n",
    "while n!=0:\n",
    "    if n%2==0:\n",
    "        pares=pares+1\n",
    "    n= int(input(\"Introduzca otro número entero: \"))\n",
    "print(\"De entre la secuencia de números enteros que ha introducido {} son pares\".format(pares))\n"
   ]
  },
  {
   "cell_type": "markdown",
   "metadata": {},
   "source": [
    "### P3_02.  \n",
    "Escribe un programa que lea una secuencia de caracteres terminada en punto (‘.’) y nos diga cuántas veces aparece la letra ‘a’ sin importar si está en mayúsculas o minúsculas.  \n",
    "Ejemplo:  \n",
    "~~~\n",
    "Introduce un carácter: r\n",
    "Introduce otro carácter: A\n",
    "Introduce otro carácter: t\n",
    "Introduce otro carácter: a\n",
    "Introduce otro carácter: s\n",
    "Introduce otro carácter: .\n",
    "Hay 2 aes\n",
    "\n",
    "~~~\n"
   ]
  },
  {
   "cell_type": "code",
   "execution_count": 2,
   "metadata": {},
   "outputs": [
    {
     "name": "stdout",
     "output_type": "stream",
     "text": [
      "Introduzca una letra, bien sea mayúscula o minúscula: r\n",
      "Introduzca otro carácter: A\n",
      "Introduzca otro carácter: t\n",
      "Introduzca otro carácter: a\n",
      "Introduzca otro carácter: s\n",
      "Introduzca otro carácter: .\n",
      "Ha introducido 2 número de aes\n"
     ]
    }
   ],
   "source": [
    "letra= input(\"Introduzca una letra, bien sea mayúscula o minúscula: \")\n",
    "a=0\n",
    "while letra!=\".\":\n",
    "    if (\"a\"<=letra<=\"z\") or (\"A\"<=letra<=\"Z\"):\n",
    "        if (letra==\"a\" or letra==\"A\"):\n",
    "            a=a+1\n",
    "    else:\n",
    "        print(\"El carácter introducido no es válido\")\n",
    "    letra= input(\"Introduzca otro carácter: \")\n",
    "print(\"Ha introducido {} número de aes\".format(a))"
   ]
  },
  {
   "cell_type": "code",
   "execution_count": null,
   "metadata": {},
   "outputs": [],
   "source": []
  },
  {
   "cell_type": "markdown",
   "metadata": {},
   "source": [
    "### *P3_03.  \n",
    "Escribe un programa que lea una secuencia de enteros terminada en 0 y devuelva el número de veces que un número impar está en posición par.  \n",
    "Ejemplo:  \n",
    "~~~\n",
    "Introduce un número: 3\n",
    "Introduce otro número: 5\n",
    "Introduce otro número: 2\n",
    "Introduce otro número: 1\n",
    "Introduce otro número: 0\n",
    "Hay 2 impares en posición par\n",
    "~~~\n",
    "Nota: El 5 éstá en la posición 2 y el 1 en la posición 4"
   ]
  },
  {
   "cell_type": "code",
   "execution_count": 26,
   "metadata": {},
   "outputs": [
    {
     "name": "stdout",
     "output_type": "stream",
     "text": [
      "Introduzca un número entero: 3\n",
      "Introduzca otro número entero: 5\n",
      "Introduzca otro número entero: 2\n",
      "Introduzca otro número entero: 1\n",
      "Introduzca otro número entero: 0\n",
      "Hay 2 impares en posición par\n"
     ]
    }
   ],
   "source": [
    "a= int(input(\"Introduzca un número entero: \"))\n",
    "posicion= 0\n",
    "n=0\n",
    "while a!=0:\n",
    "    posicion= posicion+1\n",
    "    if posicion%2==0 and a%2!=0:\n",
    "        n=n+1\n",
    "    a= int(input(\"Introduzca otro número entero: \"))\n",
    "print(\"Hay {} impares en posición par\".format(n))\n"
   ]
  },
  {
   "cell_type": "markdown",
   "metadata": {},
   "source": [
    "### P3_04.  \n",
    "Escribe un programa que solicite al usuario un número entero **num**. Entonces pedirá introducir tantos enteros como indique **num**. Cuando el usuario haya terminado de introducir los **num** números, el programa debe mostrar cuál es el menor de dichos números y en qué posición se ha introducido.   \n",
    "Ejemplo:  \n",
    "~~~\n",
    "Introduce cuántos números vas a introducir: 4 \n",
    "Introduce un número: 3\n",
    "Introduce otro número: 6\n",
    "Introduce otro número: 2\n",
    "Introduce otro número: 8\n",
    "El menor es el 2 y se ha introducido en la posición 2\n",
    "~~~\n",
    "\n",
    "    "
   ]
  },
  {
   "cell_type": "code",
   "execution_count": 1,
   "metadata": {},
   "outputs": [
    {
     "name": "stdout",
     "output_type": "stream",
     "text": [
      "Introduce cuántos números vas a introducir: 4\n",
      "Introduzca un número entero: 3\n",
      "Introduzca otro número entero: 6\n",
      "Introduzca otro número entero: 2\n",
      "Introduzca otro número entero: 8\n",
      "El menor de los valores es 2 y fue introducido en la posición 3\n"
     ]
    }
   ],
   "source": [
    "num= int(input(\"Introduce cuántos números vas a introducir: \"))\n",
    "vuelta=1\n",
    "n=int(input(\"Introduzca un número entero: \"))\n",
    "menor=n\n",
    "aux= 0\n",
    "while vuelta!=num:\n",
    "    vuelta=vuelta+1\n",
    "    x=int(input(\"Introduzca otro número entero: \"))\n",
    "    if menor>x:\n",
    "        menor=x\n",
    "        aux=vuelta\n",
    "print(\"El menor de los valores es {} y fue introducido en la posición {}\".format(menor,aux))"
   ]
  },
  {
   "cell_type": "markdown",
   "metadata": {},
   "source": [
    "*P3_05.  \n",
    "Escribe un programa que lea un entero positivo **num** y compruebe si es primo.  \n",
    "Ejemplo:  \n",
    "~~~\n",
    "Introduce un número positivo: 247\n",
    "247 NO es primo\n",
    "~~~  "
   ]
  },
  {
   "cell_type": "code",
   "execution_count": 31,
   "metadata": {},
   "outputs": [
    {
     "name": "stdout",
     "output_type": "stream",
     "text": [
      "Introduce un número positivo: 247\n",
      "El número NO es primo\n"
     ]
    }
   ],
   "source": [
    "num=int(input(\"Introduce un número positivo: \"))\n",
    "restos=1\n",
    "if num>0:\n",
    "    for i in range(2,(num-1)):\n",
    "        restos= restos*(num%i)\n",
    "    if restos==0:\n",
    "        print(\"El número NO es primo\")\n",
    "    else:\n",
    "        print(\"El número SÍ es primo\")\n",
    "elif num==0:\n",
    "    print(\"El número NO es primo\")\n",
    "else:\n",
    "    print(\"El número introducido no es positivo\")"
   ]
  },
  {
   "cell_type": "markdown",
   "metadata": {},
   "source": [
    "### P3_06.  \n",
    "Desarrolla un programa que nos pida un número y nos siga pidiendo números hasta que introduzcamos uno mayor que 10.    \n",
    "Ejemplo:   \n",
    "~~~\n",
    "    Introduce un número: 4  \n",
    "\tNo es mayor que 10, introduce otro: 7  \n",
    "    No es mayor que 10, introduce otro: 15\n",
    "    Correcto, 15 es mayor que 10\n",
    "~~~\n",
    "\n",
    "    "
   ]
  },
  {
   "cell_type": "code",
   "execution_count": 34,
   "metadata": {},
   "outputs": [
    {
     "name": "stdout",
     "output_type": "stream",
     "text": [
      "Introduce un número: 4\n",
      "No es mayor que 10, introduce otro: \n",
      "7\n",
      "No es mayor que 10, introduce otro: \n",
      "15\n",
      "Correcto, 15 es mayor que 10\n"
     ]
    }
   ],
   "source": [
    "n=int(input(\"Introduce un número: \"))\n",
    "while n<=10:\n",
    "    print(\"No es mayor que 10, introduce otro: \")\n",
    "    n=int(input())\n",
    "print(\"Correcto, {} es mayor que 10\".format(n))\n"
   ]
  },
  {
   "cell_type": "markdown",
   "metadata": {},
   "source": [
    "### P3_07.  \n",
    "Escribe un programa que lea una secuencia de caracteres terminada en ‘0’ y realice una suma de acuerdo a las siguientes reglas:  \n",
    "\n",
    "•\tLas letras minúsculas valen 1 punto.  \n",
    "\n",
    "•\tLas mayúsculas valen 2 puntos.  \n",
    "\n",
    "•\tLos dígitos valen su propio valor numérico. (Por ejemplo, ‘5’ vale 5). \n",
    "\n",
    "•\tCualquier otro carácter vale 0.  \n",
    " \n",
    "Ejemplo:  \n",
    "~~~\n",
    "Introduce una secuencia terminada en ‘0’:\n",
    "a  \n",
    "P  \n",
    "E  \n",
    ",  \n",
    "4  \n",
    "0\n",
    "La suma es 9\n",
    "\n",
    "~~~ "
   ]
  },
  {
   "cell_type": "code",
   "execution_count": 3,
   "metadata": {
    "scrolled": true
   },
   "outputs": [
    {
     "name": "stdout",
     "output_type": "stream",
     "text": [
      "Introduce una secuencia terminada en '0': \n",
      "a\n",
      "P\n",
      "E\n",
      ",\n"
     ]
    },
    {
     "ename": "TypeError",
     "evalue": "'<=' not supported between instances of 'int' and 'str'",
     "output_type": "error",
     "traceback": [
      "\u001b[1;31m---------------------------------------------------------------------------\u001b[0m",
      "\u001b[1;31mTypeError\u001b[0m                                 Traceback (most recent call last)",
      "\u001b[1;32m<ipython-input-3-3510b82b6149>\u001b[0m in \u001b[0;36m<module>\u001b[1;34m\u001b[0m\n\u001b[0;32m      7\u001b[0m     \u001b[1;32melif\u001b[0m \u001b[1;34m\"A\"\u001b[0m\u001b[1;33m<=\u001b[0m\u001b[0mcaracter\u001b[0m\u001b[1;33m<=\u001b[0m\u001b[1;34m\"Z\"\u001b[0m\u001b[1;33m:\u001b[0m\u001b[1;33m\u001b[0m\u001b[1;33m\u001b[0m\u001b[0m\n\u001b[0;32m      8\u001b[0m         \u001b[0msuma\u001b[0m\u001b[1;33m=\u001b[0m \u001b[0msuma\u001b[0m\u001b[1;33m+\u001b[0m\u001b[1;36m2\u001b[0m\u001b[1;33m\u001b[0m\u001b[1;33m\u001b[0m\u001b[0m\n\u001b[1;32m----> 9\u001b[1;33m     \u001b[1;32melif\u001b[0m \u001b[1;36m0\u001b[0m\u001b[1;33m<=\u001b[0m\u001b[0mcaracter\u001b[0m\u001b[1;33m<=\u001b[0m\u001b[1;36m9\u001b[0m\u001b[1;33m:\u001b[0m\u001b[1;33m\u001b[0m\u001b[1;33m\u001b[0m\u001b[0m\n\u001b[0m\u001b[0;32m     10\u001b[0m         \u001b[0msuma\u001b[0m\u001b[1;33m=\u001b[0m \u001b[0msuma\u001b[0m\u001b[1;33m+\u001b[0m\u001b[0mcaracter\u001b[0m\u001b[1;33m\u001b[0m\u001b[1;33m\u001b[0m\u001b[0m\n\u001b[0;32m     11\u001b[0m     \u001b[1;32melse\u001b[0m\u001b[1;33m:\u001b[0m\u001b[1;33m\u001b[0m\u001b[1;33m\u001b[0m\u001b[0m\n",
      "\u001b[1;31mTypeError\u001b[0m: '<=' not supported between instances of 'int' and 'str'"
     ]
    }
   ],
   "source": [
    "print(\"Introduce una secuencia terminada en '0': \")\n",
    "caracter= input()\n",
    "suma= 0\n",
    "while (caracter!=0):\n",
    "    if \"a\"<=caracter<=\"z\":\n",
    "        suma= suma+1\n",
    "    elif \"A\"<=caracter<=\"Z\":\n",
    "        suma= suma+2\n",
    "    elif 0<=caracter<=9:\n",
    "        suma= suma+caracter\n",
    "    else:\n",
    "        suma= suma\n",
    "    caracter= input()\n",
    "print(\"La suma es \", suma)"
   ]
  },
  {
   "cell_type": "markdown",
   "metadata": {},
   "source": [
    "### P3_08.  \n",
    "Escribe un programa que solicite dos enteros y posteriormente admita números hasta que alguno esté fuera de ese intervalo.    \n",
    "Ejemplo: \n",
    "~~~\n",
    "Introduce valor inferior: 3\n",
    "Introduce valor superior: 12\n",
    "Introduce un número: 6  \n",
    "Introduce un número: 12  \n",
    "Introduce un número: 10   \n",
    "Introduce un número: 23  \n",
    "El 23 se sale del intervalo\n",
    "~~~\n",
    "    "
   ]
  },
  {
   "cell_type": "code",
   "execution_count": 4,
   "metadata": {},
   "outputs": [
    {
     "name": "stdout",
     "output_type": "stream",
     "text": [
      "Introduce valor inferior: 3\n",
      "Introduce valor superior: 12\n",
      "Introduce un número: 6\n",
      "Introduce un número: 12\n",
      "Introduce un número: 10\n",
      "Introduce un número: 23\n",
      "El 23 se sale del intervalo\n"
     ]
    }
   ],
   "source": [
    "a= int(input(\"Introduce valor inferior: \"))\n",
    "b= int(input(\"Introduce valor superior: \"))\n",
    "if a<=b:\n",
    "    n=int(input(\"Introduce un número: \"))\n",
    "    while a<=n<=b:\n",
    "        n=int(input(\"Introduce un número: \"))\n",
    "    print(\"El {} se sale del intervalo\".format(n))\n",
    "else:\n",
    "    print(\"El extremo inferior debe ser menor que el superior\")\n"
   ]
  },
  {
   "cell_type": "markdown",
   "metadata": {},
   "source": [
    "### *P3_09.  \n",
    "Escribe un programa que sume enteros a medida que el usuario los vaya introduciendo por teclado. El programa se detendrá cuando la suma sea mayor que 2000. El programa debe informar al usuario de cuántos números se han introducido, la suma final de los números y los valores mayor y menor de la secuencia.  \n",
    "Ejemplo: \n",
    "~~~\n",
    "Introduce una secuencia de enteros: \n",
    "648   \n",
    "823  \n",
    "203   \n",
    "784   \n",
    "Se han introducido 4 números, la suma es 2458 y los valores mayor y menor son 823 y 203\n",
    "\n",
    "~~~\n",
    "\n",
    "    "
   ]
  },
  {
   "cell_type": "code",
   "execution_count": 25,
   "metadata": {},
   "outputs": [
    {
     "name": "stdout",
     "output_type": "stream",
     "text": [
      "Introduce una secuencia de enteros: \n",
      "648\n",
      "823\n",
      "203\n",
      "784\n",
      "El mayor de los números es 823, el menor 203, la suma de todos es 2458, y se han introducido 4 números\n"
     ]
    }
   ],
   "source": [
    "print(\"Introduce una secuencia de enteros: \")\n",
    "n=int(input())\n",
    "suma= n\n",
    "mayor=n\n",
    "menor=n\n",
    "contador=1\n",
    "while suma<=2000:\n",
    "    n=int(input())\n",
    "    if mayor<=n:\n",
    "         mayor=n\n",
    "    if menor>=n:\n",
    "        menor=n\n",
    "    contador=contador +1\n",
    "    suma= suma+n\n",
    "print(\"El mayor de los números es {}, el menor {}, la suma de todos es {}, y se han introducido {} números\".format(mayor,menor,suma,contador))\n",
    "    \n"
   ]
  },
  {
   "cell_type": "markdown",
   "metadata": {},
   "source": [
    "### *P3_10.  \n",
    "Escribe un programa que lea dos enteros positivos y nos diga cuál es su Máximo Común Divisor (MCD).  \n",
    "Ejemplo: \n",
    "~~~\n",
    "Introduce 2 enteros positivos: \n",
    "32  \n",
    "24\n",
    "El MCD es 8\n",
    "\n",
    "~~~\n",
    "    "
   ]
  },
  {
   "cell_type": "code",
   "execution_count": 1,
   "metadata": {},
   "outputs": [
    {
     "name": "stdout",
     "output_type": "stream",
     "text": [
      "Introduce 2 enteros positivos: \n",
      "32\n",
      "24\n",
      "El MCD es:  8\n"
     ]
    }
   ],
   "source": [
    "print(\"Introduce 2 enteros positivos: \")\n",
    "a=int(input())\n",
    "b=int(input())\n",
    "c=1\n",
    "while (b!=0) and (a!=0) and (c!=0):\n",
    "    if (a>b):\n",
    "        a= a%b\n",
    "    elif (b>a):\n",
    "        b= b%a\n",
    "    else:\n",
    "        c=0\n",
    "        print(\"El MCD es: \", b)\n",
    "if (a==0):\n",
    "    print(\"El MCD es: \", b)\n",
    "elif (b==0):\n",
    "    print(\"El MCD es: \", a)"
   ]
  },
  {
   "cell_type": "markdown",
   "metadata": {},
   "source": [
    "### P3_11.  \n",
    "Escribe un programa que muestre los **m** (**m**>=3) primeros términos de la serie generada de la siguiente manera:  \n",
    "•\tPrimer término: 1  \n",
    "•\tSegundo término: 5  \n",
    "•\tTercer término y siguientes: suma de los dos anteriores.   \n",
    "    \n",
    "Ejemplo: \n",
    "~~~\n",
    "¿Cuántos términos quieres mostrar?: 8  \n",
    "La serie es:  1  5  6  11  17  28  45  73 \n",
    "\n",
    "~~~"
   ]
  },
  {
   "cell_type": "code",
   "execution_count": 14,
   "metadata": {},
   "outputs": [
    {
     "name": "stdout",
     "output_type": "stream",
     "text": [
      "¿Cuántos términos quieres mostrar?: 8\n",
      "1 5 6 11 17 28 45 73"
     ]
    }
   ],
   "source": [
    "m= int(input(\"¿Cuántos términos quieres mostrar?: \"))\n",
    "a= 1\n",
    "b= 5\n",
    "m= m-2\n",
    "contador=0\n",
    "if m<3:\n",
    "    print(\"El número mínimo de términos a mostrar es 3\")\n",
    "else:\n",
    "    print(a,b, end='')\n",
    "    while contador!=m:\n",
    "        contador=contador+1\n",
    "        print(' ',end='')\n",
    "        print(a+b, end='')\n",
    "        aux=a\n",
    "        a=b\n",
    "        b=aux+b"
   ]
  },
  {
   "cell_type": "markdown",
   "metadata": {},
   "source": [
    "### P3_12.  \n",
    "Implementa un programa que solicite **n** números. Tiene que decirnos la mayor diferencia  (en valor absoluto)  entre dos términos consecutivos.  \n",
    "Ejemplo: \n",
    "~~~\n",
    "¿Cuántos términos vas a introducir?: 6\n",
    "Introduce los 6 números: \n",
    "3  \n",
    "-8     \n",
    "-2  \n",
    "30  \n",
    "7   \n",
    "6\n",
    "La máxima diferencia entre dos términos consecutivos es 32\n",
    "\n",
    "~~~"
   ]
  },
  {
   "cell_type": "code",
   "execution_count": 3,
   "metadata": {},
   "outputs": [
    {
     "name": "stdout",
     "output_type": "stream",
     "text": [
      "¿Cuántos términos vas a introducir?: 6\n",
      "Introduce los 6 números: \n",
      "3\n",
      "-8\n",
      "-2\n",
      "30\n",
      "7\n",
      "6\n",
      "La máxima diferencia entre dos términos consecutivos es:  32\n"
     ]
    }
   ],
   "source": [
    "n=int(input(\"¿Cuántos términos vas a introducir?: \"))\n",
    "print(\"Introduce los {} números: \".format(n))\n",
    "a=int(input())\n",
    "b=int(input())\n",
    "contador=2\n",
    "diferencia=b-a\n",
    "mayor=diferencia\n",
    "while contador!=n:\n",
    "    contador=contador+1\n",
    "    a=b\n",
    "    b=int(input())\n",
    "    diferencia=b-a\n",
    "    if mayor<diferencia:\n",
    "        mayor=diferencia\n",
    "print(\"La máxima diferencia entre dos términos consecutivos es: \", mayor)\n",
    "    \n"
   ]
  },
  {
   "cell_type": "markdown",
   "metadata": {},
   "source": [
    "### *P3_13.  \n",
    "Escribe un programa que lea una secuencia de caracteres terminada en ‘.’ y nos diga cuántas veces aparece la secuencia ‘a7’.    \n",
    "Ejemplo: \n",
    "~~~\n",
    "Introduce una secuencia de caracteres terminada en‘.’:\n",
    "R  \n",
    "t  \n",
    "5  \n",
    "4  \n",
    "a  \n",
    "a  \n",
    "7  \n",
    "A  \n",
    "a  \n",
    "7  \n",
    "2\n",
    ".\n",
    "La secuencia a7 aparece 2 veces\n",
    "\n",
    "\n",
    "~~~"
   ]
  },
  {
   "cell_type": "code",
   "execution_count": 5,
   "metadata": {},
   "outputs": [
    {
     "name": "stdout",
     "output_type": "stream",
     "text": [
      "Introduce una secuencia de caracteres terminada en‘.’: \n",
      "R\n",
      "t\n",
      "5\n",
      "4\n",
      "a\n",
      "a\n",
      "7\n",
      "A\n",
      "a\n",
      "7\n",
      "2\n",
      ".\n",
      "La secuencia a7 aparece 2 veces\n"
     ]
    }
   ],
   "source": [
    "print(\"Introduce una secuencia de caracteres terminada en‘.’: \")\n",
    "caracter= input()\n",
    "contador=0\n",
    "if caracter==\".\":\n",
    "    print(\"No aparece ninguna secuencia a7\")\n",
    "anterior=caracter\n",
    "while caracter!=\".\":\n",
    "    if anterior==\"a\" and caracter==\"7\":\n",
    "        contador=contador +1\n",
    "    anterior=caracter\n",
    "    caracter= input()\n",
    "print(\"La secuencia a7 aparece {} veces\".format(contador))\n"
   ]
  },
  {
   "cell_type": "markdown",
   "metadata": {},
   "source": [
    "### P3_14.  \n",
    "Escribe un programa que lea un entero **n** y construya en pantalla un dibujo como el de los ejemplos.    \n",
    "Ejemplos: \n",
    "~~~\n",
    "Introduce un entero: 4\t        Introduce un entero: 5\n",
    "\n",
    "    1                               1  \n",
    "    1 2                             1 2  \n",
    "    1 2 3                           1 2 3  \n",
    "\t1 2 3 4                         1 2 3 4  \n",
    "\t                                1 2 3 4 5   \n",
    "~~~"
   ]
  },
  {
   "cell_type": "code",
   "execution_count": 17,
   "metadata": {},
   "outputs": [
    {
     "name": "stdout",
     "output_type": "stream",
     "text": [
      "Introduce un entero: 4\n",
      "1\n",
      "12\n",
      "123\n",
      "1234\n"
     ]
    }
   ],
   "source": [
    "n=int(input(\"Introduce un entero: \"))\n",
    "for i in range(1,n+1):\n",
    "    for j in range(1,i+1):\n",
    "        print(j,end='')\n",
    "    print()\n",
    "    \n"
   ]
  },
  {
   "cell_type": "markdown",
   "metadata": {},
   "source": [
    "### *P3_15.  \n",
    "Escribe un programa que lea un entero **n** y construya en pantalla un dibujo como el de los ejemplos:    \n",
    "Ejemplos: \n",
    "~~~\n",
    "Introduce un entero: 4\t        Introduce un entero: 5\n",
    "\n",
    "    1 2 3 4                         1 2 3 4 5    \n",
    "    2 3 4 4                         2 3 4 5 5  \n",
    "    3 4 4 4                         3 4 5 5 5  \n",
    "    4 4 4 4                         4 5 5 5 5  \n",
    "                                    5 5 5 5 5  \n",
    "~~~"
   ]
  },
  {
   "cell_type": "code",
   "execution_count": 23,
   "metadata": {},
   "outputs": [
    {
     "name": "stdout",
     "output_type": "stream",
     "text": [
      "Introduce un entero: 5\n",
      "12345\n",
      "23455\n",
      "34555\n",
      "45555\n",
      "55555\n"
     ]
    }
   ],
   "source": [
    "n=int(input(\"Introduce un entero: \"))\n",
    "for i in range(1,n+1):\n",
    "    for j in range(i,n):\n",
    "        print(j,end='')\n",
    "    for j in range(i):\n",
    "        print(n,end='')\n",
    "    print()"
   ]
  },
  {
   "cell_type": "markdown",
   "metadata": {},
   "source": [
    "### P3_16.  \n",
    "Escribe un programa que lea una secuencia de enteros terminada en 0 y nos diga cuántos números pares hay después del primer impar. No se cuenta el 0 final.       \n",
    "Ejemplo: \n",
    "~~~\n",
    "Introduce una secuencia:\n",
    "6  \n",
    "2  \n",
    "2  \n",
    "34  \n",
    "1  \n",
    "7  \n",
    "6  \n",
    "19  \n",
    "0\n",
    "Hay 1 números pares después del primer impar\n",
    "~~~\n",
    "Nota: Podemos mejorar el programa haciendo que salgan mensajes acordes a la respuesta. \n",
    "~~~\n",
    "No hay números pares después del primer impar      \n",
    "Hay un número par después del primer impar  \n",
    "Hay 4 números pares después del primer impar  \n",
    "~~~"
   ]
  },
  {
   "cell_type": "code",
   "execution_count": 9,
   "metadata": {},
   "outputs": [
    {
     "name": "stdout",
     "output_type": "stream",
     "text": [
      "Introduce una secuencia de números enteros: 6\n",
      "2\n",
      "2\n",
      "34\n",
      "1\n",
      "7\n",
      "6\n",
      "19\n",
      "0\n",
      "Hay 1 pares después del primer impar\n"
     ]
    }
   ],
   "source": [
    "n=int(input(\"Introduce una secuencia de números enteros: \"))\n",
    "contador= 0\n",
    "while n%2==0 and n!=0:\n",
    "    n=int(input())\n",
    "n=int(input())\n",
    "while n%2!=0 and n!=0:\n",
    "    n=int(input())\n",
    "while n%2==0 and n!=0:\n",
    "    contador= contador+1\n",
    "    n=int(input())\n",
    "while n!=0:\n",
    "    n=int(input())\n",
    "print(\"Hay {} pares después del primer impar\".format(contador))\n",
    "            \n",
    "\n",
    "        \n"
   ]
  },
  {
   "cell_type": "markdown",
   "metadata": {},
   "source": [
    "### *P3_17.  \n",
    "Escribe un programa que lea una secuencia de **n** enteros y nos diga cuántos elementos de la secuencia son mayores que el que les precede.          \n",
    "Ejemplo: \n",
    "~~~\n",
    "Introduce una secuencia:\n",
    "6  \n",
    "2  \n",
    "2  \n",
    "34  \n",
    "1  \n",
    "7  \n",
    "6  \n",
    "19  \n",
    "Hay 3 números mayores que el que les precede.\n",
    "~~~\n",
    "Nota: Podemos mejorar el programa haciendo que salgan mensajes acordes a la respuesta. \n",
    "~~~\n",
    "Ningún número es mayor que el que le precede \n",
    "~~~"
   ]
  },
  {
   "cell_type": "code",
   "execution_count": 24,
   "metadata": {},
   "outputs": [
    {
     "name": "stdout",
     "output_type": "stream",
     "text": [
      "¿Cuántos números enteros desea introducir?: 8\n",
      "Introduce una secuencia: \n",
      "6\n",
      "2\n",
      "2\n",
      "34\n",
      "1\n",
      "7\n",
      "6\n",
      "19\n",
      "Hay 3 números mayores que el que les precede.\n"
     ]
    }
   ],
   "source": [
    "num= int(input(\"¿Cuántos números enteros desea introducir?: \"))\n",
    "print(\"Introduce una secuencia: \")\n",
    "n=int(input())\n",
    "contador= 1\n",
    "anterior= n\n",
    "mayores= 0\n",
    "while contador!=num:\n",
    "    n=int(input())\n",
    "    if anterior<n:\n",
    "        mayores= mayores+1\n",
    "    anterior= n\n",
    "    contador= contador+1\n",
    "if mayores!=0:\n",
    "    print(\"Hay {} números mayores que el que les precede.\".format(mayores))\n",
    "else:\n",
    "    print(\"Ningún número es mayor que el que le precede\")"
   ]
  },
  {
   "cell_type": "markdown",
   "metadata": {},
   "source": [
    "### P3_18.  \n",
    "Crea un programa que lea **n** enteros y nos diga cuántos positivos y negativos hay.          \n",
    "Ejemplo: \n",
    "~~~\n",
    "¿Cuántos números quieres leer?: 5\n",
    "6  \n",
    "-2  \n",
    "2  \n",
    "-34  \n",
    "1  \n",
    "Hay 2 negativos y 3 positivos\n",
    "~~~"
   ]
  },
  {
   "cell_type": "code",
   "execution_count": 18,
   "metadata": {},
   "outputs": [
    {
     "name": "stdout",
     "output_type": "stream",
     "text": [
      "¿Cuántos números quieres leer?: 5\n",
      "Introduce un número entero: 6\n",
      "Introduce un número entero: -2\n",
      "Introduce un número entero: 2\n",
      "Introduce un número entero: -34\n",
      "Introduce un número entero: 1\n",
      "Hay 2 negativos y 3 positivos\n"
     ]
    }
   ],
   "source": [
    "num=int(input(\"¿Cuántos números quieres leer?: \"))\n",
    "contador= 0\n",
    "negativo= 0\n",
    "positivo= 0\n",
    "while contador!=num:\n",
    "    n=int(input(\"Introduce un número entero: \"))\n",
    "    if n<0:\n",
    "        negativo= negativo+1\n",
    "    else:\n",
    "        positivo= positivo+1\n",
    "    contador= contador+1\n",
    "print(\"Hay {} negativos y {} positivos\".format(negativo,positivo))\n",
    "        \n"
   ]
  },
  {
   "cell_type": "code",
   "execution_count": null,
   "metadata": {},
   "outputs": [],
   "source": []
  }
 ],
 "metadata": {
  "kernelspec": {
   "display_name": "Python 3",
   "language": "python",
   "name": "python3"
  }
 },
 "nbformat": 4,
 "nbformat_minor": 2
}
