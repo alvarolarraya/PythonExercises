{
 "cells": [
  {
   "cell_type": "markdown",
   "metadata": {},
   "source": [
    "# Ejercicios extra (funciones)"
   ]
  },
  {
   "cell_type": "markdown",
   "metadata": {},
   "source": [
    "### Ejercicio 1:\n",
    "\n",
    "Queremos realizar un programa que conste de:\n",
    "- Un procedimiento llamado LeeMatriz que almacene enteros introducidos por teclado en una matriz M (NxN), N constante conocida. \n",
    "- Un procedimiento ExtraeFila que reciba como parámetros una matriz M y un número entero num y devuelva un vector V que contenga los valores de la fila de la matriz indicada por dicho número. \n",
    "- Una función Mayor que reciba como parámetro un vector V de dimensión N y devuelva el mayor de sus valores. \n",
    "- Un procedimiento CreaVector que reciba como parámetro una matriz M y  mediante el procedimiento y la función anteriores devuelva un vector V de dimensión N compuesto por los mayores elementos de cada fila de la matriz. \n",
    "- Un procedimiento HazMatriz que reciba como parámetro un vector V y devuelva una matriz cuya primera columna sea dicho vector y las posteriores se formen restando 1 a la anterior. Ningún elemento de las columnas a partir de la primera podrá tomar un valor menor que 0. En ese caso, se rellenará el resto de la fila con 0. \n",
    "- Un procedimiento EscribeMatriz que muestre una matriz por pantalla. \n",
    "- Un programa principal que solicite una matriz por teclado y mediante los procedimientos anteriores cree una nueva matriz como la del ejemplo. Este programa también imprimirá por pantalla la matriz original y la resultante. \n",
    "\n",
    "Ejemplo: si la matriz de entrada es\n",
    "\n",
    "$\\begin{bmatrix}\n",
    "3 & -4 & 2 & -5 \\\\\n",
    "11 & 4 & 6 & 12 \\\\\n",
    "-2 & -3 & 2 & -4 \\\\\n",
    "5 & 3 & 10 & 7\n",
    "\\end{bmatrix}$ $\\rightarrow$\n",
    "$\\begin{bmatrix}\n",
    "3 & 12 & 2 & 10 \n",
    "\\end{bmatrix}$ $\\rightarrow$\n",
    "$\\begin{bmatrix}\n",
    "3 & 2 & 1 & 0 \\\\\n",
    "12 & 11 & 10 & 9 \\\\\n",
    "2 & 1 & 0 & 0 \\\\\n",
    "10 & 9 & 8 & 7\n",
    "\\end{bmatrix}$ "
   ]
  },
  {
   "cell_type": "code",
   "execution_count": null,
   "metadata": {},
   "outputs": [],
   "source": []
  },
  {
   "cell_type": "markdown",
   "metadata": {},
   "source": [
    "### Ejercicio 2\n",
    "\n",
    "Escribe un programa que, a partir de una matriz, calcule en otra matriz las sumas acumuladas de la primera desde la posición [1,1] hasta cada posición de la matriz. Para ello, implementa los siguientes procedimientos y funciones:\n",
    "- Un procedimiento LeeMatriz que lea del usuario NxM (constantes conocidas) números enteros y los almacene en una matriz.\n",
    "- Un procedimiento SubMatriz que reciba una matriz, un número de fila F y un número de columna C. Este procedimiento debe devolver una matriz del mismo tamaño que la original en la que los elementos del cuadrado formado desde la posición [1,1] hasta la posición [F,C] sean iguales que en la matriz original y el resto de elementos valgan 0. \n",
    "\n",
    "Matriz original: $\\begin{bmatrix}\n",
    "1 & 4 & 7 & 3 & 8 \\\\\n",
    "10 & 9 & 5 & 3 & 6 \\\\\n",
    "3 & 12 & 1 & 0 & 9\\\\\n",
    "2 & 5 & 4 & 8 & 2 \\\\\n",
    "\\end{bmatrix}$; Submatriz hasta la posición [2,3]\n",
    "$\\begin{bmatrix}\n",
    "1 & 4 & 7 & 0 & 0 \\\\\n",
    "10 & 9 & 5 & 0 & 0 \\\\\n",
    "0 & 0 & 0 & 0 & 0\\\\\n",
    "0 & 0 & 0 & 0 & 0 \\\\\n",
    "\\end{bmatrix}$\n",
    "- Una función SumaMatriz que reciba una matriz y devuelva la suma de todos los elementos almacenados en ella. \n",
    "- Un procedimiento Sumas que, utilizando el procedimiento y la función anterior, reciba una matriz y cree otra nueva matriz en la que en cada posición se almacene la suma de todos los elementos desde la posición [1,1] hasta dicha posición de la matriz original. \n",
    "- Un programa principal que, después de leer los números de una matriz y construir la matriz de sumas acumuladas, muestre la suma de los elementos de la matriz de sumas acumuladas. (0,7 puntos)\n",
    "\n",
    "Ejemplo:\n",
    "$\\begin{bmatrix}\n",
    "1 & 4 & 7 & 3 & 8 \\\\\n",
    "10 & 9 & 5 & 3 & 6 \\\\\n",
    "3 & 12 & 1 & 0 & 9\\\\\n",
    "2 & 5 & 4 & 8 & 2 \\\\\n",
    "\\end{bmatrix}$ $\\rightarrow$\n",
    "$\\begin{bmatrix}\n",
    "1 & 5 & 12 & 15 & 23 \\\\\n",
    "11 & 24 & 36 & 42 & 56 \\\\\n",
    "14 & 39 & 52 & 58 & 81\\\\\n",
    "16 & 46 & 63 & 77 & 102 \\\\\n",
    "\\end{bmatrix}$"
   ]
  },
  {
   "cell_type": "code",
   "execution_count": 3,
   "metadata": {},
   "outputs": [],
   "source": [
    "def leeMatriz():\n",
    "    N = int(input())\n",
    "    M = int(input())\n",
    "    m = []\n",
    "    for i in range(N):\n",
    "        f = []\n",
    "        for j in range(M):\n",
    "            f.append(int(input()))\n",
    "        m.append(f)\n",
    "    return m"
   ]
  },
  {
   "cell_type": "code",
   "execution_count": null,
   "metadata": {},
   "outputs": [],
   "source": [
    "def subMatriz(m, f, c):\n",
    "    m2 = []\n",
    "    for i in range(len(m)):\n",
    "        fila = []\n",
    "        for j in range(len(m[0])):\n",
    "            if i<=f and j<=c:\n",
    "                fila.append(m[i][j])\n",
    "            else:\n",
    "                fila.append(0)\n",
    "        m2.append(fila)\n",
    "    return m2"
   ]
  },
  {
   "cell_type": "code",
   "execution_count": null,
   "metadata": {},
   "outputs": [],
   "source": [
    "def subMatriz(m, f, c):\n",
    "    m2 = [0]*len(m)\n",
    "    for i in range(len(m)):\n",
    "        m2[i] = [0]*len(m[0])\n",
    "    for i in range(f):\n",
    "        for j in range(c):\n",
    "            m2[i][j] = m[i][j]\n",
    "    return m2"
   ]
  },
  {
   "cell_type": "code",
   "execution_count": null,
   "metadata": {},
   "outputs": [],
   "source": [
    "def sumaMatriz(m):\n",
    "    s = 0\n",
    "    for i in range(len(m)):\n",
    "        for j in range(len(m[0])):\n",
    "            s = s + m[i][j]\n",
    "    return s"
   ]
  },
  {
   "cell_type": "code",
   "execution_count": null,
   "metadata": {},
   "outputs": [],
   "source": [
    "def sumas(m):\n",
    "    m2 = []\n",
    "    for i in range(len(m)):\n",
    "        for j in range(len(m[0])):\n",
    "            maux = subMatriz(m, i, j)\n",
    "            m2[i][j] = sumaMatriz(maux)\n",
    "    return m2"
   ]
  },
  {
   "cell_type": "code",
   "execution_count": 4,
   "metadata": {},
   "outputs": [
    {
     "name": "stdout",
     "output_type": "stream",
     "text": [
      "4\n",
      "5\n",
      "1\n",
      "4\n",
      "7\n",
      "3\n",
      "8\n",
      "10\n",
      "9\n",
      "5\n",
      "3\n",
      "6\n",
      "3\n",
      "12\n",
      "1\n",
      "0\n",
      "9\n",
      "2\n",
      "5\n",
      "4\n",
      "8\n",
      "2\n",
      "[[1, 4, 7, 3, 8], [10, 9, 5, 3, 6], [3, 12, 1, 0, 9], [2, 5, 4, 8, 2]]\n"
     ]
    }
   ],
   "source": [
    "matriz = leeMatriz()\n",
    "matriz2 = sumas(m)\n",
    "for i in range(len(matriz2)):\n",
    "    for j in range(len(matriz2[0])):\n",
    "        print(matriz2[i][j], end='')\n",
    "    print()"
   ]
  },
  {
   "cell_type": "markdown",
   "metadata": {},
   "source": [
    "### Ejercicio 3\n",
    "\n",
    "Este programa estudiará el nivel de coincidencia de dos matrices de números enteros. Dos matrices A y B (NxN, N constante conocida) tienen nivel T de coincidencia si hay exactamente T posiciones de A y B cuyos valores coinciden. \n",
    "- Escribe un procedimiento LeeMatriz que lea una matriz M(NxN). \n",
    "- El procedimiento LeeVector leerá un vector de enteros V(M), M constante conocida. \n",
    "- Diseña una función CoincidenMatrices que tome dos matrices A y B y nos diga cuántas posiciones de ambas matrices tienen valores coincidentes. \n",
    "- Diseña ahora una función booleana CoincideT que tome dos matrices A y B, y un valor entero T y utilizando la función anterior nos diga si hay exactamente T posiciones coincidentes en las dos matrices. \n",
    "- La función PosCoincidentes tomará dos matrices A y B y un vector V y nos devolverá la posición del vector donde esté el número de coincidencias entre ambas matrices. Para hacerlo, deberás recorrer el vector y utilizar la función CoincideT. Si el número de coincidencias no está en el vector, devolverá -1 y si está repetido en el vector, la posición de la primera aparición. \n",
    "\n",
    "Completa el ejercicio con un programa principal que lea las dos matrices y el vector y nos diga si en alguna de las posiciones del vector está el número de coincidencias de las dos matrices. \n",
    "\n",
    "Ejemplo:\n",
    "A: $\\begin{bmatrix}\n",
    "21 & 12 & 0 & 3 \\\\\n",
    "8 & 9 & 16 & 16 \\\\\n",
    "15 & 8 & 112 & 19\\\\\n",
    "12 & 7 & 18 & 2 \\\\\n",
    "\\end{bmatrix}$; B:\n",
    "$\\begin{bmatrix}\n",
    "21 & 10 & 2 & 3 \\\\\n",
    "18 & 9 & 16 & 6\\\\\n",
    "5 & 78 & 12 & 9\\\\\n",
    "7 & 17 & 33 & 2\\\\\n",
    "\\end{bmatrix}$; V: \n",
    "$\\begin{bmatrix}\n",
    "3 & 7 & 5 & 1 & 2 & 1\n",
    "\\end{bmatrix}$"
   ]
  },
  {
   "cell_type": "code",
   "execution_count": 5,
   "metadata": {},
   "outputs": [],
   "source": [
    "def coincidenMatrices(A, B):\n",
    "    c = 0\n",
    "    for i in range(len(A)):\n",
    "        for j in range(len(A[0])):\n",
    "            if A[i][j] == B[i][j]:\n",
    "                c = c+1\n",
    "    return c"
   ]
  },
  {
   "cell_type": "code",
   "execution_count": null,
   "metadata": {},
   "outputs": [],
   "source": [
    "def coincideT(A, B, T):\n",
    "    c = coincidenMatrices(A, B)\n",
    "    if T == c:\n",
    "        return True\n",
    "    else:\n",
    "        return False"
   ]
  },
  {
   "cell_type": "code",
   "execution_count": null,
   "metadata": {},
   "outputs": [],
   "source": [
    "def coincideT(A, B, T):\n",
    "    c = coincidenMatrices(A, B)\n",
    "    return T == c"
   ]
  },
  {
   "cell_type": "code",
   "execution_count": null,
   "metadata": {},
   "outputs": [],
   "source": [
    "def posCoincidentes(A, B, V):\n",
    "    for i in range(len(V)):\n",
    "        if coincideT(A, B, V[i]):\n",
    "            return i\n",
    "    return -1\n",
    "            \n",
    "            "
   ]
  },
  {
   "cell_type": "code",
   "execution_count": null,
   "metadata": {},
   "outputs": [],
   "source": [
    "def posCoincidentes(A, B, V):\n",
    "    posicion = -1\n",
    "    for i in range(len(V)-1, -1, -1):\n",
    "    #for i in range(-1, -len(V), -1)\n",
    "        if coincideT(A, B, V[i]):\n",
    "            posicion = i\n",
    "    return posicion\n",
    "            \n",
    "     "
   ]
  },
  {
   "cell_type": "code",
   "execution_count": null,
   "metadata": {},
   "outputs": [],
   "source": [
    "A = leeMatriz()\n",
    "B = leeMatriz()\n",
    "V = leeVector()\n",
    "pos = posCoincidentes(A, B, V)\n",
    "if pos == -1:\n",
    "    print(\"No se ha encontrado\")\n",
    "else:\n",
    "    print(\"Se ha encontrado en la posicion {}\".format(pos))"
   ]
  },
  {
   "cell_type": "markdown",
   "metadata": {},
   "source": [
    "### Ejercicio 4\n",
    "\n",
    "Escribe los siguientes procedimientos y funciones:\n",
    "- Un procedimiento LeeMatriz que lea del usuario NxN números enteros (N constante conocida) y los almacene en una matriz. \n",
    "- Una función ExtraeDiagonalPrincipal que devuelva la diagonal principal de una matriz de entrada M en forma de vector. \n",
    "- Un procedimiento ExtraeDiagonalSecundaria que devuelva la diagonal secundaria de una matriz de entrada M en forma de vector. \n",
    "- Un procedimiento ComparaVectores que reciba dos vectores de entrada V1 y V2 de dimensión N  y devuelva dos nuevos vectores (PAR, IMPAR), así como el número de elementos almacenados en cada uno de estos vectores (TamPar, TamImpar). Para ello, deben compararse los elementos de V1 y V2 elemento a elemento y guardar en los vectores la división entera del elemento en V1 entre el de V2. La división se guardará en el vector PAR si el resto de la división entre los dos elementos es par y en IMPAR en otro caso. \n",
    "- Un procedimiento EscribeVector que reciba un vector y el número de elementos almacenados en él y muestre por pantalla dichos números en una única fila. \n",
    "\n",
    "Utilizando los procedimientos y funciones anteriores, crea un programa que lea dos matrices de números enteros, extraiga la diagonal principal de la primera matriz y la secundaria de la segunda y, posteriormente, compare las dos diagonales obteniendo los vectores PAR e IMPAR. Finalmente muestra el contenido de dichos vectores por pantalla. \n",
    "\n",
    "Ejemplo: si las matrices de entrada son :\n",
    "M1: $\\begin{bmatrix}\n",
    "1 & 4 & 7 & 3\\\\\n",
    "10 & 9 & 5 & 3\\\\\n",
    "3 & 12 & 14 & 0\\\\\n",
    "2 & 5 & 4 & 11\\\\\n",
    "\\end{bmatrix}$ y M2:\n",
    "$\\begin{bmatrix}\n",
    "6 & 3 & 5 & 4\\\\\n",
    "7 & 8 & 3 & 12\\\\\n",
    "9 & 3 & 3 & 3\\\\\n",
    "2 & 0 & 11 & 2\\\\\n",
    "\\end{bmatrix}$\n",
    "\n",
    "Las diagonales serán:\n",
    "\n",
    "DiagM1: 1$\\ $ 9$\\ $   14$\\ $  11\n",
    "\n",
    "DiagM2: 4$\\ $ 3$\\ $   3$\\ $  2\n",
    "\n",
    "Y los vectores:\n",
    "\n",
    "PAR = 3 $\\ $ 4 (resultado de 9 entre 3 = 3, resto=; 14 entre 3 = 4, resto = 2)\n",
    "\n",
    "IMPAR =  0 $\\ $2 (resultado de 1 entre 4 = 0, resto = 4; 11 entre 4 = 2, resto = 3)"
   ]
  },
  {
   "cell_type": "code",
   "execution_count": null,
   "metadata": {},
   "outputs": [],
   "source": [
    "def extraePrincipal(m):\n",
    "    d = []\n",
    "    for i in range(len(m)):\n",
    "        for j in range(len(m[0])):\n",
    "            if i == j:\n",
    "                d.append(m[i][j])\n",
    "    return d"
   ]
  },
  {
   "cell_type": "code",
   "execution_count": null,
   "metadata": {},
   "outputs": [],
   "source": [
    "def extraePrincipal(m):\n",
    "    d = []\n",
    "    for i in range(len(m)):\n",
    "        d.append(m[i][i])\n",
    "    return d"
   ]
  },
  {
   "cell_type": "code",
   "execution_count": null,
   "metadata": {},
   "outputs": [],
   "source": [
    "def extraeSecundaria(m):\n",
    "    d = []\n",
    "    for i in range(len(m)):\n",
    "        d.append(m[i][len(m)- i -1])\n",
    "    return d"
   ]
  },
  {
   "cell_type": "code",
   "execution_count": null,
   "metadata": {},
   "outputs": [],
   "source": [
    "def comparaVectores(v1, v2):\n",
    "    par = []\n",
    "    impar = []\n",
    "    for i in range(len(v1)):\n",
    "        resto = v1[i] % v2[i]\n",
    "        if resto % 2 == 0:\n",
    "            par.append(v1[i] // v2[i])\n",
    "        else:\n",
    "            impar.append(v1[i] // v2[i])\n",
    "    return par, impar, len(par), len(impar)"
   ]
  },
  {
   "cell_type": "code",
   "execution_count": null,
   "metadata": {},
   "outputs": [],
   "source": [
    "def escribeVector(v, l):\n",
    "    for i in range(l):\n",
    "        print(v[i], end='')"
   ]
  },
  {
   "cell_type": "code",
   "execution_count": 7,
   "metadata": {},
   "outputs": [],
   "source": [
    "def cambiaLista(v):\n",
    "    v[0] = 0"
   ]
  },
  {
   "cell_type": "code",
   "execution_count": 8,
   "metadata": {},
   "outputs": [
    {
     "name": "stdout",
     "output_type": "stream",
     "text": [
      "[0, 2, 3]\n"
     ]
    }
   ],
   "source": [
    "v = [1, 2, 3]\n",
    "v = cambiaLista(v)\n",
    "print(v)"
   ]
  },
  {
   "cell_type": "markdown",
   "metadata": {},
   "source": [
    "### Ejercicio 5\n",
    "\n",
    "Nuestro programa leerá una frase f y una lista de enteros positivos l (ambos del mismo tamaño). A continuación, construirá una matriz m (nxn), n constante, que tenga en cada columna c los n primeros caracteres de la frase que estén en la misma posición que los n primeros múltiplos de c de la lista, en el orden de lectura. Si no hay n múltiplos de c, la columna se completará con espacios en blanco.\n",
    "Para hacerlo, diseña las siguientes funciones:\n",
    "- LeeLista: lee una lista l de enteros positivos. \n",
    "- MúltiplosColumna: toma una matriz m, la frase f, la lista l y una columna c, y rellena la columna c de la matriz m con los n primeros caracteres de la frase que están en la misma posición que los n primeros múltiplos de c que haya en la lista (en el orden de lectura) \n",
    "- CreaMatriz: recibe una frase f y una lista l y utilizando la función anterior, crea la matriz con los caracteres correspondientes en cada una de las columnas. \n",
    "- EscribeMatriz: muestra en pantalla el resultado. \n",
    "\n",
    "Completa el ejercicio con un programa principal que utilizando las funciones anteriores, lea la frase y la lista (del mismo tamaño), construya la matriz y la muestre como en el ejemplo. \n",
    "\n",
    "Ejemplo:\n",
    "\n",
    "Introduce una frase: perro gato leon\n",
    "\n",
    "Introduce una lista de 15 enteros positivos: 3 5 12 7 34 6 9 8 3 23 67  1  4  5  90\n",
    "\n",
    "La matriz $5\\times 5$ resultante es:\n",
    "$\\begin{bmatrix}\n",
    "p & r & p & r & e \\\\\n",
    "e & o & r & a & o \\\\\n",
    "r &   &   & e & n \\\\\n",
    "r & a & g & &  \\\\\n",
    "o & e & t & & \n",
    "\\end{bmatrix}$\n",
    "\n",
    "Nota explicativa: para evitar divisiones por , llamaremos columna 1 a la primera columna de la matriz, aunque se almacene internamente en la columna . Además, ten en cuenta la relación entre las letras de la frase y la lista de números:\n",
    "\n",
    "$\\begin{bmatrix}\n",
    "3 & 5 & 12 & 7 & 34 & 6 & 9 & 8 & 3 & 23 & 67 & 1 & 4 & 5 & 90 \\\\\n",
    "p & e & r & r & o & & g & a & t & o & & l & e & o & n\n",
    "\\end{bmatrix}$\n",
    "\n",
    "Por tanto, como los 5 primeros múltiplos de 2 en la lista son 12, 34, 6, 8 y 4, tomaremos las correspondientes letras (r, o, blanco, a, e) para completar la columna 2 de la matriz."
   ]
  },
  {
   "cell_type": "code",
   "execution_count": null,
   "metadata": {},
   "outputs": [],
   "source": []
  },
  {
   "cell_type": "markdown",
   "metadata": {},
   "source": [
    "### Ejercicio 6\n",
    "\n",
    "Crea un programa que aplique una media basada en 8 vecinos a cada posición de una matriz. Para ello, utiliza las siguientes funciones:\n",
    "- LeeMatriz: debe leer y devolver una matriz m de nxn de números reales. \n",
    "- Extrae8vecinos: debe recibir una matriz m de nxn  números reales y una posición dada por dos valores enteros i, j. La función debe devolver una nueva matriz de 3x3 con los valores de la submatriz de 3x3 centrada en la posición i, j (asumimos que i, j  nunca estará situada en los bordes de la matriz). \n",
    "- CalculaMedia: recibe una matriz y debe devolver la media de sus elementos. \n",
    "- AplicaMediaVecinos: recibe una matriz m de nxn de números reales y devuelve una nueva matriz m2 de números reales de tamaño nxn. Los bordes de la nueva matriz tendrán valor 0 ya que no es posible obtener los 8 vecinos. Para el resto, se recorrerá cada posición de la matriz original, obteniendo sus 8 vecinos, calculando su media y asignando este nuevo valor a la matriz resultado. \n",
    "- EscribeMatriz: debe de imprimir por pantalla la matriz que recibe como entrada. \n",
    "\n",
    "Finalmente, escribe el programa principal que lea una matriz, aplique la media basada en 8 vecinos e imprima la matriz por pantalla. \n",
    "\n",
    "Ejemplo:\n",
    "$\\begin{bmatrix}\n",
    "1 & 4 & 7 & 3 & 8 \\\\\n",
    "1 & 3 & 1 & 3 & 6 \\\\\n",
    "3 & 2 & 1 & 0 & 9\\\\\n",
    "2 & 5 & 4 & 8 & 2\\\\\n",
    "1 & 3 & 5 & 2 & 1 \\\\\n",
    "\\end{bmatrix}$ $\\rightarrow$\n",
    "$\\begin{bmatrix}\n",
    "0 & 0 & 0 & 0 & 0 \\\\\n",
    "0 & 2.55 & 2.66 & 4.22 & 0\\\\\n",
    "0 & 2.44 & 3 & 3.77 & 0 \\\\\n",
    "0 & 2.88 & 3.33 & 3.55 & 0\\\\\n",
    "0 & 0 & 0 & 0 & 0\\\\\n",
    "\\end{bmatrix}$\n"
   ]
  },
  {
   "cell_type": "code",
   "execution_count": null,
   "metadata": {},
   "outputs": [],
   "source": []
  },
  {
   "cell_type": "markdown",
   "metadata": {},
   "source": [
    "### Ejercicio 7\n",
    "\n",
    "Escribe un programa que reciba una matriz mat de números reales de nxm, y nos indique qué columna col tiene más valores por encima del valor medio de la propia columna. Para ello, implementa las siguientes funciones:\n",
    "- LeeMatriz: debe leer una matriz mat de nxm de números reales. \n",
    "- ExtraeColumna: toma la matriz mat y una columna c, y nos devuelva un vector v con la columna c de la matriz. \n",
    "- CalculaMedia: nos devuelve la media de los elementos de un vector v. \n",
    "- CuentaVector: nos dice cuántos valores del vector v son mayores que un determinado num. \n",
    "- CuentaMatriz: a partir de una matriz de entrada de mat y utilizando las funciones anteriores, debe calcular un vector medias de tamaño m (número de columnas de la matriz de entrada) donde en cada posición j se almacene el valor medio de los valores de la columna j. También obtendrá otro vector mayores de tamaño m, que devolverá la función, con el número de elementos que en cada columna sean mayores que el valor medio correspondiente. \n",
    "- IndiceMáximo: dado un vector de entrada de m elementos, debe devolver el índice que corresponde al mayor de los elementos en el vector. Si hay más de un valor igual al máximo, devuelve el índice del primero. \n",
    "\n",
    "El programa principal debe de utilizar las funciones anteriores para: leer una matriz, obtener la media de sus columnas, contar en cada columna el número de valores que son mayores que la media de la columna e indicar en qué columna ocurre esto un mayor número de veces. \n",
    "\n",
    "Ejemplo:\n",
    "\n",
    "$\\begin{bmatrix}\n",
    "1 & 2 & -1 & 2 \\\\\n",
    "2 & 2 & 1 & 2 \\\\\n",
    "3 & 3 & 0 & 2 \\\\\n",
    "2 & 3 & -2 & 2 \\\\\n",
    "1 & 2.5 & 2 & 2 \\\\\n",
    "2 & 2.5 & 0 & 2 \\\\\n",
    "\\end{bmatrix}$\n",
    "\n",
    "CuentaMatriz construye el vector medias: [1.83, 2.5, , 2]\n",
    "\n",
    "Y el vector mayores: [4,2,2,0]\n"
   ]
  },
  {
   "cell_type": "code",
   "execution_count": null,
   "metadata": {},
   "outputs": [],
   "source": []
  },
  {
   "cell_type": "markdown",
   "metadata": {},
   "source": [
    "### Ejercicio 8\n",
    "\n",
    "Queremos implementar las siguientes funciones:\n",
    "- LeeMatriz: recibe el número de filas f y columnas c y devuelve una matriz  m de ese tamaño leída por teclado. \n",
    "- MediaMatriz: recibe una matriz m y devuelve la media aritmética de sus valores. \n",
    "- MaxDiferencia: recibe una matriz m y devuelve la mayor diferencia entre todos sus elementos. \n",
    "- Compensa: recibe una matriz m y devuelve la matriz modificada de manera que los elementos mayores que la media, reduzcan su valor un 20% y los menores lo aumenten un 20%. \n",
    "- CompensaIterativa: recibe una matriz m, un número real umbral y un número entero maxIt. Mediante sucesivas llamadas a la función Compensa transformará la matriz hasta que la mayor diferencia entre dos de sus elementos sea menor que el umbral dado o se hayan realizado maxIt iteraciones. La función deberá devolver la matriz resultante, así como el número de iteraciones realizadas. \n",
    "- EscribeMatriz: escribe en pantalla una matriz. \n",
    "\n",
    "Haciendo uso de estas funciones, crearemos un programa que lea una matriz por teclado (tamaño constante conocido definido en el programa principal) y calcule la matriz compensada haciendo uso de CompensaIterativa. El umbral (un número real) y el máximo número de iteraciones (número entero) serán valores que deberá de introducir el usuario por teclado. Finalmente, se imprimirá la matriz resultante, así como el número de iteraciones utilizadas para obtener dicha matriz. "
   ]
  },
  {
   "cell_type": "code",
   "execution_count": null,
   "metadata": {},
   "outputs": [],
   "source": []
  }
 ],
 "metadata": {
  "kernelspec": {
   "display_name": "Python 3",
   "language": "python",
   "name": "python3"
  },
  "language_info": {
   "codemirror_mode": {
    "name": "ipython",
    "version": 3
   },
   "file_extension": ".py",
   "mimetype": "text/x-python",
   "name": "python",
   "nbconvert_exporter": "python",
   "pygments_lexer": "ipython3",
   "version": "3.7.3"
  }
 },
 "nbformat": 4,
 "nbformat_minor": 2
}
