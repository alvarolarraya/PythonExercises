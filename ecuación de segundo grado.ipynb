{
 "cells": [
  {
   "cell_type": "code",
   "execution_count": 15,
   "metadata": {},
   "outputs": [
    {
     "name": "stdout",
     "output_type": "stream",
     "text": [
      "Este programa sirve para resolver ecuaciones de segundo grado, siempre y cuando esten igualadas a cero\n"
     ]
    },
    {
     "name": "stdin",
     "output_type": "stream",
     "text": [
      "Por favor, introduzca el coeficiente de la incognita de grado 2:  100\n",
      "Por favor, introduzca el coeficiente de la incognita de grado 1:  -47\n",
      "Por favor, introduzca el coeficiente independiente:  2\n"
     ]
    },
    {
     "name": "stdout",
     "output_type": "stream",
     "text": [
      "Esta ecuación posee dos soluciones: x=7.28 y x=-6.81\n"
     ]
    }
   ],
   "source": [
    "print(\"Este programa sirve para resolver ecuaciones de segundo grado, siempre y cuando esten igualadas a cero\")\n",
    "a= float(input(\"Por favor, introduzca el coeficiente de la incognita de grado 2: \"))\n",
    "b= float(input(\"Por favor, introduzca el coeficiente de la incognita de grado 1: \"))\n",
    "c= float(input(\"Por favor, introduzca el coeficiente independiente: \"))\n",
    "if a==0 and b!=0 and c!=0:\n",
    "    x=(-c)/b\n",
    "    print(\"El resultado de la ecuación es x=\", x)\n",
    "elif a==0 and b==0 and c!=0:\n",
    "    print(\"Esta ecuación no tiene solución\")\n",
    "elif a==0 and b==0 and c==0:\n",
    "    print(\"Esta ecuación tiene infinitas soluciones\")\n",
    "elif a!=0 and b==0 and c!=0:\n",
    "    if ((-c)/a)>=0:\n",
    "        x1=+(((-c)/a)**0.5)\n",
    "        x2=-(((-c)/a)**0.5)\n",
    "        print(\"Esta ecuación tiene dos soluciones posibles: x={} y x={}\".format(x1,x2))\n",
    "    else:\n",
    "        print(\"No existe solución para dicha ecuación\")\n",
    "elif a!=0 and b==0 and c==0:\n",
    "    print(\"Esta ecuación posee una raíz cero doble como solución\")\n",
    "elif a==0 and b!=0 and c==0:\n",
    "    print(\"La solución es x=0\")\n",
    "elif a!=0 and b!=0 and c==0:\n",
    "    x1= 0\n",
    "    x2= ((-b)/a)\n",
    "    print(\"Esta ecuación tiene como soluciones x={} y x={}\".format(x1,x2))\n",
    "elif a!=0 and b!=0 and c!=0:\n",
    "    if ((b**2)-(4*a*c))>=0: \n",
    "        x1= ((-b)+(b**2-4*a*c))/(2*a)\n",
    "        x2= ((-b)-(b**2-4*a*c))/(2*a)\n",
    "        print(\"Esta ecuación posee dos soluciones: x={} y x={}\".format(x1,x2))\n",
    "    else:\n",
    "        print(\"No existe solución a dicha ecuación\")"
   ]
  },
  {
   "cell_type": "code",
   "execution_count": null,
   "metadata": {},
   "outputs": [],
   "source": []
  }
 ],
 "metadata": {
  "kernelspec": {
   "display_name": "Python 3",
   "language": "python",
   "name": "python3"
  },
  "language_info": {
   "codemirror_mode": {
    "name": "ipython",
    "version": 3
   },
   "file_extension": ".py",
   "mimetype": "text/x-python",
   "name": "python",
   "nbconvert_exporter": "python",
   "pygments_lexer": "ipython3",
   "version": "3.7.3"
  }
 },
 "nbformat": 4,
 "nbformat_minor": 4
}
