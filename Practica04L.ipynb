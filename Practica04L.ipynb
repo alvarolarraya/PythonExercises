{
 "cells": [
  {
   "cell_type": "markdown",
   "metadata": {},
   "source": [
    "# Práctica 04. Listas."
   ]
  },
  {
   "cell_type": "markdown",
   "metadata": {},
   "source": [
    "# Índice de ejercicios\n",
    "\n",
    "[P4_13. Mayores que num](#P4_13.)   \n",
    "[P4_14. Orden inverso](#P4_14.)   \n",
    "[P4_15. Multiplica listas](#P4_15.)   \n",
    "[P4_16. Apariciones de i](#P4_16.)  \n",
    "[P4_17. Matrices triangulares](#P4_17.)  \n",
    "[P4_18. Matriz simétrica](#P4_18.)  \n",
    "[P4_19. Crea matriz de enteros](#P4_19.)  \n",
    "[P4_20. Crea listas de minúsculas](#P4_20.)  \n",
    "[P4_21. Estrellas](#P4_21.)  \n",
    "[P4_22. Dibuja palabra](#P4_22.)  \n",
    "[P4_23. Cruza palabra](#P4_23.)  \n",
    "  "
   ]
  },
  {
   "cell_type": "markdown",
   "metadata": {},
   "source": [
    "### P4_13.  \n",
    "Escribe un programa que almacene **N** (constante) enteros en una lista **v**. El programa pedirá al usuario un número **num** y mostrará las posiciones de los elementos de **v** que sean mayores que **num**.  \n",
    "Ejemplo para N=10:  \n",
    "~~~\n",
    "Introduce 10 números:\n",
    "3  12  7  45  2  98  2  4  56  20\n",
    "Escribe un número: 40\n",
    "Las posiciones de los números mayores que 40 son: \n",
    "3  5  8\n",
    "\n",
    "~~~\n"
   ]
  },
  {
   "cell_type": "code",
   "execution_count": 5,
   "metadata": {},
   "outputs": [
    {
     "name": "stdout",
     "output_type": "stream",
     "text": [
      "Introduzca el número de elementos de la lista: 10\n",
      "Escribe un número: : 40\n",
      "Introduce 10 números: \n",
      "3\n",
      "12\n",
      "7\n",
      "45\n",
      "2\n",
      "98\n",
      "2\n",
      "4\n",
      "56\n",
      "20\n",
      "Las posiciones de los números mayores que 40 son: \n",
      "3 5 8 "
     ]
    }
   ],
   "source": [
    "N=int(input(\"Introduzca el número de elementos de la lista: \"))\n",
    "v=[]\n",
    "num=int(input(\"Escribe un número: : \"))\n",
    "print(\"Introduce {} números: \".format(N))\n",
    "for i in range(N):\n",
    "    elemento=int(input())\n",
    "    v.append(elemento)\n",
    "print(\"Las posiciones de los números mayores que {} son: \".format(num))\n",
    "for j in range(len(v)):\n",
    "    if v[j]>num:\n",
    "        print(j,end=' ')"
   ]
  },
  {
   "cell_type": "markdown",
   "metadata": {},
   "source": [
    "### P4_14.  \n",
    "Escribe un programa que lea **N** (**N** constante conocida) enteros y los almacene en una lista **t**. El programa creará una nueva lista **v** con los elementos de **t** en orden inverso.    \n",
    "Ejemplo:  \n",
    "~~~\n",
    "Introduce 6 números: 1  3  5  8  4  6\n",
    "La nueva lista es: 6  4  8  5  3  1\n",
    "~~~\n"
   ]
  },
  {
   "cell_type": "code",
   "execution_count": 11,
   "metadata": {},
   "outputs": [
    {
     "name": "stdout",
     "output_type": "stream",
     "text": [
      "Introduzca el número de elementos de la lista: 6\n",
      "Introduce 6 números: \n",
      "1\n",
      "3\n",
      "5\n",
      "8\n",
      "4\n",
      "6\n",
      "La nueva lista es: 6 4 8 5 3 1\n"
     ]
    }
   ],
   "source": [
    "N=int(input(\"Introduzca el número de elementos de la lista: \"))\n",
    "t=[]\n",
    "print(\"Introduce {} números: \".format(N))\n",
    "for i in range(N):\n",
    "    elemento=input()\n",
    "    t.append(elemento)\n",
    "v= t[len(t)::-1]\n",
    "cadena=\" \".join(v)\n",
    "print(\"La nueva lista es:\", cadena)"
   ]
  },
  {
   "cell_type": "markdown",
   "metadata": {},
   "source": [
    "### P4_15.  \n",
    "Escribe un programa que lea dos listas **a** y **b** de rango **N** y calcule otra lista **c** con el resultado de multiplicar las listas **a** y **b** elemento a elemento.  \n",
    "Ejemplo:  \n",
    "~~~\n",
    "Introduce 6 números: 2  2  6  3  11  5\n",
    "Introduce 6 números: 1  7  8  16  4  6\n",
    "El resultado es: 2  14  48  48  44  30\n",
    "~~~"
   ]
  },
  {
   "cell_type": "code",
   "execution_count": 16,
   "metadata": {},
   "outputs": [
    {
     "name": "stdout",
     "output_type": "stream",
     "text": [
      "Introduzca el número de elementos de la lista: 6\n",
      "Introduce 6 números: \n",
      "2\n",
      "2\n",
      "6\n",
      "3\n",
      "11\n",
      "5\n",
      "Introduce 6 números: \n",
      "1\n",
      "7\n",
      "8\n",
      "16\n",
      "4\n",
      "6\n",
      "El resultado es:  [2, 14, 48, 48, 44, 30]\n"
     ]
    }
   ],
   "source": [
    "N=int(input(\"Introduzca el número de elementos de la lista: \"))\n",
    "a=[]\n",
    "b=[]\n",
    "c=[]\n",
    "print(\"Introduce {} números: \".format(N))\n",
    "for i in range(N):\n",
    "    elemento=int(input())\n",
    "    a.append(elemento)\n",
    "print(\"Introduce {} números: \".format(N))\n",
    "for j in range(N):\n",
    "    elemento=int(input())\n",
    "    b.append(elemento)\n",
    "for k in range(len(a)):\n",
    "    producto=a[k]*b[k]\n",
    "    c.append(producto)\n",
    "print(\"El resultado es: \", c)"
   ]
  },
  {
   "cell_type": "markdown",
   "metadata": {},
   "source": [
    "### P4_16.  \n",
    "Escribe un programa que lea una lista **t** de **n** enteros positivos cuyos valores estén entre **0** y **n-1**. Posteriormente el programa creará una nueva lista **v** tal que **v[i]** será las veces que el número **i** aparece en el vector **t**. **n** será solicitado por el programa y como máximo será 20  \n",
    "Ejemplo:  \n",
    "\n",
    "~~~\n",
    "Cuántos elementos tendrá el vector (Max 20): 8\n",
    "Introduce 8 enteros menores que 8:  7  6  6  3  5  5  0  5  \n",
    "La nueva lista es: 1  0  0  1  0  3  2  1\n",
    "~~~\n",
    "\n",
    "    "
   ]
  },
  {
   "cell_type": "code",
   "execution_count": 22,
   "metadata": {},
   "outputs": [
    {
     "name": "stdout",
     "output_type": "stream",
     "text": [
      "Cuántos elementos tendrá el vector (Max 20): 8\n",
      "Introduce 8 enteros menores que 8: \n",
      "7\n",
      "6\n",
      "6\n",
      "3\n",
      "5\n",
      "5\n",
      "0\n",
      "5\n",
      "La nueva lista es:  [1, 0, 0, 1, 0, 3, 2, 1]\n"
     ]
    }
   ],
   "source": [
    "n=int(input(\"Cuántos elementos tendrá el vector (Max 20): \"))\n",
    "print(\"Introduce {} enteros menores que {}: \".format(n,n))\n",
    "t=[]\n",
    "v=[]\n",
    "contador=0\n",
    "for i in range(n):\n",
    "    elementos= int(input())\n",
    "    if elementos>=n:\n",
    "        print(\"El número introducido es mayor que \", n)\n",
    "        break\n",
    "    t.append(elementos)\n",
    "for j in range(n):\n",
    "    if j in t:\n",
    "        while j in t:\n",
    "            contador=contador+1\n",
    "            t.remove(j)\n",
    "    v.append(contador)\n",
    "    contador=0\n",
    "print(\"La nueva lista es: \", v)"
   ]
  },
  {
   "cell_type": "markdown",
   "metadata": {},
   "source": [
    "### P4_17.  \n",
    "Escribe un programa que lea una matriz **m**(**N**x**N**) de números enteros (con **N** constante) y escribe en pantalla, en primer lugar, la matriz triangular inferior incluyendo la diagonal y, en segundo lugar, la matriz triangular superior sin incluir la diagonal.\t \n",
    "Ejemplo:  \n",
    "~~~\n",
    "Introduce una matriz de 3x3 elementos:   \n",
    "\n",
    "1  2  3  \n",
    "2  5  8  \n",
    "3  8  10  \n",
    "\n",
    "La matriz triangular inferior es:   \n",
    "\n",
    "1\n",
    "2  5  \n",
    "3  8  10  \n",
    "\n",
    "La matriz triangular superior es:  \n",
    "\n",
    "   2  3   \n",
    "      8  \n",
    "~~~\n",
    "\n",
    "    "
   ]
  },
  {
   "cell_type": "code",
   "execution_count": 30,
   "metadata": {},
   "outputs": [
    {
     "name": "stdout",
     "output_type": "stream",
     "text": [
      "Introduzca el orden de la matriz: 3\n",
      "Introduzca los elementos de la matriz: \n",
      "1\n",
      "2\n",
      "3\n",
      "2\n",
      "5\n",
      "8\n",
      "3\n",
      "10\n",
      "8\n",
      "La matriz triangular inferior es: \n",
      "0\n",
      "1\n",
      "2\n"
     ]
    }
   ],
   "source": [
    "m=[]\n",
    "N=int(input(\"Introduzca el orden de la matriz: \"))\n",
    "print(\"Introduzca los elementos de la matriz: \")\n",
    "for i in range(N):\n",
    "    for j in range(N):\n",
    "        fila=[]\n",
    "        elementos=int(input())\n",
    "        fila.append(elementos)\n",
    "    m.append(fila)\n",
    "print(\"La matriz triangular inferior es: \")\n",
    "for i in range(len(m)):\n",
    "    print(i)\n",
    "    for j in range(len(m[i])):\n",
    "        break"
   ]
  },
  {
   "cell_type": "markdown",
   "metadata": {},
   "source": [
    "### P4_18.  \n",
    "Escribe un programa que lea una matriz **m** de rango **N**x**N** de enteros y compruebe si la matriz es simétrica o no (una matriz **m** es simétrica si **m**[ **i** ][ **j** ] = **m**[ **j** ][ **i** ] para todo **i,j** = 1,…,**N**)  \n",
    "Ejemplos:  \n",
    "~~~\n",
    "Introduce una matriz de 3x3 elementos:\n",
    "\n",
    "1  2  3  \n",
    "2  5  8  \n",
    "3  8 10  \n",
    "\n",
    "La matriz es simétrica \n",
    " \n",
    "Introduce una matriz de 3x3 elementos: \n",
    "\n",
    "1  5  3\n",
    "2  5  8\n",
    "3  8 10\n",
    "\n",
    "La matriz no es simétrica\n",
    "~~~\n",
    "\n",
    "    "
   ]
  },
  {
   "cell_type": "code",
   "execution_count": null,
   "metadata": {
    "collapsed": true
   },
   "outputs": [],
   "source": [
    "# Escribe aquí tu programa\n"
   ]
  },
  {
   "cell_type": "markdown",
   "metadata": {},
   "source": [
    "### P4_19.  \n",
    "Escribe un programa que lea una secuencia de **N** enteros y los almacene en una lista **v**. Posteriormente el programa construirá una matriz **m** (de rango **N**x**N**) como en el ejemplo.  \n",
    "Nota: Los valores de **v** deben ser menores o iguales que **N**.  \n",
    "Ejemplo:  \n",
    "~~~\n",
    "\tIntroduce 5 números menores o iguales que 5: 1  4  5  2  2  \n",
    "    \n",
    "\tLa matriz m es:  \n",
    "    \n",
    "\t1  4  5  2  2\n",
    "\t0  4  5  2  2\n",
    "\t0  4  5  0  0\n",
    "\t0  4  5  0  0\n",
    "    0  0  5  0  0\n",
    "~~~\n",
    "   "
   ]
  },
  {
   "cell_type": "code",
   "execution_count": null,
   "metadata": {
    "collapsed": true
   },
   "outputs": [],
   "source": [
    "# Escribe aquí tu programa\n"
   ]
  },
  {
   "cell_type": "markdown",
   "metadata": {},
   "source": [
    "### P4_20.  \n",
    "Escribe un programa que lea dos matrices de letras minúsculas **m1** y **m2** de rango 4x4. El programa debe comparar los caracteres elemento a elemento y almacenar los caracteres que sean iguales en ambas matrices de la siguiente manera:  \n",
    "-. En una lista **d** si el carácter está entre la ‘a’ y la ‘m’ o  \n",
    "-. en una lista **f** si el carácter está entre la ‘n’ y la ‘z’.   \n",
    "Ejemplo: \n",
    "\n",
    "~~~\n",
    "Introduce la primera matriz:  \n",
    "\n",
    "b r t u  \n",
    "s a v h  \n",
    "l g h o  \n",
    "c r c s  \n",
    "\n",
    "Introduce la segunda matriz:  \n",
    "\n",
    "u r b u  \n",
    "o a e i  \n",
    "l f d o  \n",
    "o r c i  \n",
    "\n",
    "La lista d es: a l c  \n",
    "La lista f es: r u o r\n",
    "\n",
    "~~~\n"
   ]
  },
  {
   "cell_type": "code",
   "execution_count": 1,
   "metadata": {},
   "outputs": [],
   "source": [
    "# Escribe aquí tu programa\n"
   ]
  },
  {
   "cell_type": "markdown",
   "metadata": {},
   "source": [
    "### P4_21.  \n",
    "Escribe un programa que lea una secuencia de enteros y los almacene en un array **m** de rango **N**x**N**. Suponemos que cada número representa el brillo de una zona del espacio. Una posición **i**,**j** de la matriz es una estrella si la suma del valor en la posición **i**,**j** y los valores de sus cuatro vecinos (arriba, abajo, derecha e izquierda) es mayor que 30. El programa debe mostrar las posiciones de las estrellas.  \n",
    "Nota: No hay estrellas en los bordes de la matriz.  \n",
    "Ejemplo:   \n",
    "~~~\n",
    "Introduce los 6x6 numeros:  \n",
    "\n",
    "1   3  10   2   1   2  \n",
    "0   3   5   3   8   2  \n",
    "3   4  10   2   3   2  \n",
    "1   2   2   1   6   2  \n",
    "3   7   1   8   8   3  \n",
    "1   2   5   2   7   5   \n",
    "\n",
    "Las estrellas ocupan las posiciones:  \n",
    "\n",
    "(1,2)  \n",
    "(4,4)\n",
    "\n",
    "\n",
    "~~~\n"
   ]
  },
  {
   "cell_type": "code",
   "execution_count": 5,
   "metadata": {},
   "outputs": [],
   "source": [
    "# Escribe aquí tu programa\n",
    "n = 6\n",
    "m = [[1, 3, 10, 2, 1, 2], [0, 3, 5, 3, 8, 2], [3, 4, 10, 2, 3, 2],\n",
    "     [1, 2, 2, 1, 6, 2], [3, 7, 1, 8, 8, 3], [1, 2, 5, 2, 7, 5]]\n"
   ]
  },
  {
   "cell_type": "markdown",
   "metadata": {},
   "source": [
    "### P4_22.  \n",
    "Escribe un programa que lea una palabra de **N** caracteres y la almacene en una lista **t**. El programa solicitará ahora un número entero **num** (**num**<=**N**) y mostrará un dibujo como el del ejemplo.  \n",
    "Ejemplo: \n",
    "~~~\n",
    "Introduce una palabra de 7 caracteres: AULARIO  \n",
    "Introduce un número menor o igual que 7: 5  \n",
    "\n",
    "A               R\n",
    "A           A   R\n",
    "A       L       R\n",
    "A   U           R\n",
    "A               R\n",
    "\t\n",
    "\n",
    "~~~\n"
   ]
  },
  {
   "cell_type": "code",
   "execution_count": null,
   "metadata": {
    "collapsed": true
   },
   "outputs": [],
   "source": [
    "# Escribe aquí tu programa\n"
   ]
  },
  {
   "cell_type": "markdown",
   "metadata": {},
   "source": [
    "### P4_23.  \n",
    "Escribe un programa que lea una palabra de **N** caracteres y la almacene en una lista **t**. El programa solicitará ahora un número entero **num** (**num**<=**N**) y mostrará un dibujo como el del ejemplo.  \n",
    "Ejemplo: \n",
    "~~~\n",
    "Introduce una palabra de 6 caracteres: ZAPATO  \n",
    "\n",
    "Introduce un número menor o igual que 6: 4  \n",
    "\n",
    "            Z\t\t\n",
    "            A\t\t\n",
    "            P\t\t\n",
    "Z   A   P   A   T   O\n",
    "            T\t\t\n",
    "            O\t\t\n",
    "~~~\t\t\n",
    "\n"
   ]
  },
  {
   "cell_type": "code",
   "execution_count": null,
   "metadata": {
    "collapsed": true
   },
   "outputs": [],
   "source": [
    "# Escribe aquí tu programa\n"
   ]
  }
 ],
 "metadata": {
  "kernelspec": {
   "display_name": "Python 3",
   "language": "python",
   "name": "python3"
  },
  "language_info": {
   "codemirror_mode": {
    "name": "ipython",
    "version": 3
   },
   "file_extension": ".py",
   "mimetype": "text/x-python",
   "name": "python",
   "nbconvert_exporter": "python",
   "pygments_lexer": "ipython3",
   "version": "3.7.3"
  }
 },
 "nbformat": 4,
 "nbformat_minor": 2
}
