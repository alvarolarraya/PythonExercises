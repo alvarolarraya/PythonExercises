{
 "cells": [
  {
   "cell_type": "code",
   "execution_count": 4,
   "metadata": {},
   "outputs": [],
   "source": [
    "def imprime_matriz(N,matriz):\n",
    "    cadena= \" _\"*N\n",
    "    print(cadena)\n",
    "    for i in range(N):\n",
    "        for j in range(N):\n",
    "            print(\"|\", end='')\n",
    "            print(matriz[i][j], end='')    \n",
    "        print(\"|\")\n",
    "    return"
   ]
  },
  {
   "cell_type": "code",
   "execution_count": 5,
   "metadata": {},
   "outputs": [
    {
     "name": "stdout",
     "output_type": "stream",
     "text": [
      " _ _ _\n",
      "|_|_|_|\n",
      "|_|_|_|\n",
      "|_|_|_|\n"
     ]
    }
   ],
   "source": [
    "def lee_matriz(N):\n",
    "    matriz= []\n",
    "    for i in range(N):\n",
    "        for j in range(N):\n",
    "            fila= [\"_\"]*N\n",
    "        matriz.append(fila)\n",
    "    return matriz"
   ]
  },
  {
   "cell_type": "code",
   "execution_count": 6,
   "metadata": {},
   "outputs": [],
   "source": [
    "def pide_casilla(nombre):\n",
    "    fila= int(input(\"{}, introduzca la fila: \".format(nombre)))\n",
    "    columna= int(input(\"Ahora la columna: \"))\n",
    "    return fila, columna"
   ]
  },
  {
   "cell_type": "code",
   "execution_count": 11,
   "metadata": {},
   "outputs": [
    {
     "name": "stdout",
     "output_type": "stream",
     "text": [
      "Álvaro, introduzca la fila: 1\n",
      "Ahora la columna: 2\n",
      " _ _ _\n",
      "|_|_|_|\n",
      "|_|_|X|\n",
      "|_|_|_|\n"
     ]
    }
   ],
   "source": [
    "def sustituye_matriz(matriz,fila,columna):\n",
    "    if turno==1:\n",
    "        matriz[fila][columna]= \"X\"\n",
    "    else:\n",
    "        matriz[fila][columna]= \"O\"\n",
    "    return matriz"
   ]
  },
  {
   "cell_type": "code",
   "execution_count": null,
   "metadata": {},
   "outputs": [],
   "source": [
    "N=3\n",
    "def imprime_matriz(N,matriz):\n",
    "    cadena= \" _\"*N\n",
    "    print(cadena)\n",
    "    for i in range(N):\n",
    "        for j in range(N):\n",
    "            print(\"|\", end='')\n",
    "            print(matriz[i][j], end='')    \n",
    "        print(\"|\")\n",
    "    return\n",
    "def lee_matriz(N):\n",
    "    matriz= []\n",
    "    for i in range(N):\n",
    "        for j in range(N):\n",
    "            fila= [\"_\"]*N\n",
    "        matriz.append(fila)\n",
    "    return matriz\n",
    "def pide_casilla(nombre):\n",
    "    fila= int(input(\"{}, introduzca la fila: \".format(nombre)))\n",
    "    columna= int(input(\"Ahora la columna: \"))\n",
    "    return fila, columna\n",
    "def sustituye_matriz(matriz,fila,columna):\n",
    "    if turno==1:\n",
    "        matriz[fila][columna]= \"X\"\n",
    "    else:\n",
    "        matriz[fila][columna]= \"O\"\n",
    "    return matriz\n",
    "import random\n",
    "def monedaran():\n",
    "    moneda=(random.choice(['cara','cruz']))\n",
    "    return moneda\n",
    "\n",
    "def nombres():\n",
    "    nom1=input('Introduzca el nombre del jugador 1:')\n",
    "    nom2=input('Introduzca el nombre del jugador 2:')\n",
    "    return nom1,nom2\n",
    "\n",
    "def orden(moneda,nom1,nom2):\n",
    "    aux=nom1\n",
    "    elec=input('{} elija cara o cruz: '.format(nom1))\n",
    "    print('Ha salido {} .'.format(moneda))\n",
    "    if elec!=moneda:\n",
    "        nom1=nom2\n",
    "        nom2=aux\n",
    "    print('Primero va {} y después {}'.format(nom1,nom2))\n",
    "    return nom1,nom2\n",
    "        \n",
    "def turnos(turno):\n",
    "    nombre=nom1\n",
    "    if turno%2!=0:\n",
    "        nombre=nom1\n",
    "    else:\n",
    "        nombre=nom2\n",
    "    return nombre    \n",
    "nom1,nom2=nombres()\n",
    "moneda=monedaran()\n",
    "nom1,nom2=orden(moneda,nom1,nom2)\n"
   ]
  }
 ],
 "metadata": {
  "kernelspec": {
   "display_name": "Python 3",
   "language": "python",
   "name": "python3"
  }
 },
 "nbformat": 4,
 "nbformat_minor": 2
}
