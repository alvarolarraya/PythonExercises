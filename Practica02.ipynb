{
 "cells": [
  {
   "cell_type": "markdown",
   "metadata": {},
   "source": [
    "# Práctica 02. Sentencias alternativas. "
   ]
  },
  {
   "cell_type": "markdown",
   "metadata": {},
   "source": [
    "### Recuerda que para realizar estos ejecicios deberás usar las sentencias *if*, *if_else* y *elif*."
   ]
  },
  {
   "cell_type": "markdown",
   "metadata": {},
   "source": [
    "# Índice de ejercicios\n",
    "\n",
    "[P2_01. Valor absoluto](#P2_01.)  \n",
    "[P2_02. Número par](#P2_02.)  \n",
    "[P2_03. Mayor número](#P2_03.)  \n",
    "[P2_04. Mayor y menor](#*P2_04.)  \n",
    "[P2_05. Intervalo](#P2_05.)  \n",
    "[P2_06. Menú](#P2_06.)  \n",
    "[P2_07. Asignar estudiantes](#*P2_07.)  \n",
    "[P2_08. Operaciones aritméticas](#*P2_08.)  \n",
    "[P2_09. Empresa de mensajería](#*P2_09.)  \n",
    "[P2_10. Día de la semana](#P2_10.)  \n",
    "[P2_11. Día laborable](#*P2_11.)  \n",
    "[P2_12. Número suma de otros dos](#*P2_12.)  "
   ]
  },
  {
   "cell_type": "markdown",
   "metadata": {},
   "source": [
    "### P2_01.  \n",
    "Escribe un programa que lea un número desde teclado y muestre su valor absoluto. Para realizar este programa no se puede usar la función *abs*.  \n",
    "Ejemplo:  \n",
    "~~~\n",
    "Por favor, introduce un número: -4\n",
    "Su valor absoluto es 4\n",
    "~~~\n"
   ]
  },
  {
   "cell_type": "code",
   "execution_count": 9,
   "metadata": {},
   "outputs": [
    {
     "name": "stdout",
     "output_type": "stream",
     "text": [
      "Por favor, introduce un número: -4\n",
      "El valor absoluto de su número es:  4.0\n"
     ]
    }
   ],
   "source": [
    "m= float(input(\"Por favor, introduce un número: \"))\n",
    "if (m>0):\n",
    "    print(\"El valor absoluto de su número es: \", m)\n",
    "else:\n",
    "    print(\"El valor absoluto de su número es: \", m*(-1))"
   ]
  },
  {
   "cell_type": "markdown",
   "metadata": {},
   "source": [
    "### P2_02.  \n",
    "Escribe un programa que almacene un entero y, en caso de que sea par,  nos muestre un mensaje. Si el número es impar, no es necesario mostrar ningún mensaje.  \n",
    "Ejemplo:  \n",
    "~~~\n",
    "Por favor, introduce un número: 4\n",
    "El número 4 es par\n",
    "~~~\n"
   ]
  },
  {
   "cell_type": "code",
   "execution_count": 14,
   "metadata": {},
   "outputs": [
    {
     "name": "stdout",
     "output_type": "stream",
     "text": [
      "Por favor, introduce un número entero: 4\n",
      "El número 4 es par\n"
     ]
    }
   ],
   "source": [
    "n= int(input(\"Por favor, introduce un número entero: \"))\n",
    "if (n%2== 0):\n",
    "    print(\"El número {} es par\".format(n))"
   ]
  },
  {
   "cell_type": "markdown",
   "metadata": {},
   "source": [
    "### P2_03.  \n",
    "Escribe un programa que almacene tres números, **a, b y c** y nos diga cuál es el mayor.  \n",
    "Ejemplo:  \n",
    "~~~\n",
    "Por favor, escribe un número: 4 \n",
    "escribe otro número: 2\n",
    "escribe el tercero: 4\n",
    "El mayor es el 4\n",
    "~~~"
   ]
  },
  {
   "cell_type": "code",
   "execution_count": 16,
   "metadata": {},
   "outputs": [
    {
     "name": "stdout",
     "output_type": "stream",
     "text": [
      "Por favor, escribe un número: 4\n",
      "escribe otro número: 5\n",
      "escribe el tercero: 6\n",
      "0.0\n"
     ]
    }
   ],
   "source": [
    "a= float(input(\"Por favor, escribe un número: \"))\n",
    "b= float(input(\"escribe otro número: \"))\n",
    "c= float(input(\"escribe el tercero: \"))\n",
    "mayor= float()\n",
    "if a>b:\n",
    "    a=mayor\n",
    "    if c>a:\n",
    "        c=mayor\n",
    "    print(mayor)\n",
    "else:\n",
    "    b=mayor\n",
    "    if c>b:\n",
    "        c=mayor\n",
    "    print(mayor)\n"
   ]
  },
  {
   "cell_type": "markdown",
   "metadata": {},
   "source": [
    "### *P2_04. \n",
    "Escribe un programa que almacene tres números, **a, b y c** y nos diga cuáles son el mayor y el menor.  \n",
    "Ejemplo:  \n",
    "~~~\n",
    "Por favor, escribe un número: 4 \n",
    "escribe otro número: 2\n",
    "escribe el tercero: 4\n",
    "El mayor es el 4 y el menor el 2\n",
    "~~~\n",
    "\n",
    "    "
   ]
  },
  {
   "cell_type": "code",
   "execution_count": 4,
   "metadata": {
    "collapsed": true
   },
   "outputs": [],
   "source": [
    "# Escribe aquí tu programa\n"
   ]
  },
  {
   "cell_type": "markdown",
   "metadata": {},
   "source": [
    "### P2_05.  \n",
    "Escribe un programa que almacene tres números reales, **a, b** y **v**. Deberá mostrar un mensaje indicando si **v** está incluido en el intervalo formado por **a** y **b**. Ten en cuenta que en principio no sabremos si el intervalo es el  **[a, b]** o el **[b, a]**.   \n",
    "Ejemplo:  \n",
    "~~~\n",
    "Por favor, escribe un extremo del intervalo: 4.32\n",
    "Introduce el otro extremo: 1.78\n",
    "Introduce el número a comprobar: 4.12\n",
    "El numero 4.12 está en el intervalo [1.78, 4.32]\n",
    "~~~  "
   ]
  },
  {
   "cell_type": "code",
   "execution_count": 1,
   "metadata": {
    "collapsed": true
   },
   "outputs": [],
   "source": [
    "# Escribe aquí tu programa\n"
   ]
  },
  {
   "cell_type": "markdown",
   "metadata": {},
   "source": [
    "### P2_06.  \n",
    "Escribe un programa que muestre un menú con las siguientes cuatro opciones: \n",
    "~~~\n",
    "a. Añadir  \n",
    "b. Borrar  \n",
    "c. Ordenar\n",
    "d. Imprimir\n",
    "Introduce la opción:\n",
    "~~~\n",
    "\n",
    "El programa debe mostrar la opción seleccionada. Si el carácter introducido no es válido, el programa nos lo indicará mostrando un mensaje de error.  \n",
    "Ejemplo:   \n",
    "~~~\n",
    "Introduce una opción: b \n",
    "La opción seleccionada es Borrar\n",
    "~~~\n",
    "Ejemplo: \n",
    "~~~\n",
    "Introduce una opción: j\n",
    "La opción seleccionada NO es válida\n",
    "\n",
    "~~~\n",
    "\n",
    "    "
   ]
  },
  {
   "cell_type": "code",
   "execution_count": 6,
   "metadata": {
    "collapsed": true
   },
   "outputs": [],
   "source": [
    "# Escribe aquí tu programa\n"
   ]
  },
  {
   "cell_type": "markdown",
   "metadata": {},
   "source": [
    "### *P2_07.  \n",
    "Escribe un programa que lea un carácter que represente la inicial del apellido de un estudiante. El programa tiene que mostrar el aula del estudiante según la siguiente tabla:\n",
    "~~~\n",
    "Apellidos desde la A a la F -> Aula 1\n",
    "Apellidos desde la G a la J -> Aula 2\n",
    "Apellidos desde la K a la M -> Aula 3\n",
    "Apellidos desde la N a la Z -> Aula 4\n",
    "~~~\n",
    "Si el carácter introducido no se corresponde con un carácter alfabético, el programa mostrará un mensaje de error indicando que el carácter es inválido. Ten en cuenta que la inicial puede ser introducida en minúsculas o mayúsculas.  \n",
    "Ejemplo:  \n",
    "~~~\n",
    "Introduce la inicial del apellido: B \n",
    "El aula del estudiante es la número 1\n",
    "~~~"
   ]
  },
  {
   "cell_type": "code",
   "execution_count": 7,
   "metadata": {
    "collapsed": true
   },
   "outputs": [],
   "source": [
    "# Escribe aquí tu programa\n"
   ]
  },
  {
   "cell_type": "markdown",
   "metadata": {},
   "source": [
    "### *P2_08.  \n",
    "Escribe un programa que lea dos números reales **a, b** y un carácter operación. El programa debe mostrar el resultado de aplicar la operación especificada anteriormente a los números **a** y **b**. Las posibles operaciones se restringen a los caracteres ’+’, ’-’, ’*’ y  ’/’.  \n",
    "Ejemplo: \n",
    "~~~\n",
    "Por favor, escribe un número: 4.4\n",
    "Escribe otro número: 2\n",
    "Por favor, escribe una operación: *\n",
    "El resultado de la operación 4.4 * 2.0 es 8.80\n",
    "~~~\n",
    "\n",
    "    "
   ]
  },
  {
   "cell_type": "code",
   "execution_count": 8,
   "metadata": {
    "collapsed": true
   },
   "outputs": [],
   "source": [
    "# Escribe aquí tu programa\n"
   ]
  },
  {
   "cell_type": "markdown",
   "metadata": {},
   "source": [
    "### *P2_09.  \n",
    "Una empresa de mensajería factura a sus clientes por volumen y peso según las siguientes reglas:  \n",
    "* Con respecto al volumen (v):  \n",
    "    * Si v es menor o igual que 5 m3 -> 3€;  \n",
    "    * Si v está entre 5 y 10 m3 -> 5€;  \n",
    "    * Si v es mayor que 10 m3 -> 0.5€ por m3.  \n",
    "* Con respecto al peso (p):\n",
    "    * Si p es menor o igual que 2 kg -> 1.7€ por kg;\n",
    "    * Si p mayor que 2 kg -> 1.9€ por kg.\n",
    "\n",
    "En cualquier caso, la empresa siempre toma la opción de facturación que produce el mayor precio posible.\n",
    "Escribe un programa que lea desde teclado los datos del paquete (largo, ancho, alto y peso) y calcule la cantidad que debe pagar el cliente.  \n",
    "Ejemplo: \n",
    "~~~\n",
    "Introduce las dimensiones del paquete (en metros) \n",
    "largo: 1  \n",
    "ancho: 1   \n",
    "alto: 1  \n",
    "Introduce su peso (en kilos): 2\n",
    "El precio del envío es 3.4€\n",
    "~~~\n",
    "Ejemplo: \n",
    "~~~\n",
    "Introduce las dimensiones del paquete (en metros)\n",
    "largo: 2  \n",
    "ancho: 2   \n",
    "alto: 2 \n",
    "Introduce su peso (en kilos): 2\n",
    "El precio del envío es 5€\n",
    "~~~\n",
    "    "
   ]
  },
  {
   "cell_type": "code",
   "execution_count": 9,
   "metadata": {
    "collapsed": true
   },
   "outputs": [],
   "source": [
    "# Escribe aquí tu programa\n"
   ]
  },
  {
   "cell_type": "markdown",
   "metadata": {},
   "source": [
    "### P2_10.  \n",
    "Escribe un programa que lea un entero desde teclado y muestre en la pantalla el día de la semana correspondiente a dicho número. Si el número es mayor que 7, el programa nos indicará que no es un día de la semana.  \n",
    "Ejemplo: \n",
    "~~~\n",
    "Por favor, escribe un número: 2\n",
    "Es martes\n",
    "~~~\n",
    "Ejemplo: \n",
    "~~~\n",
    "Por favor, escribe un número: 8\n",
    "No se corresponde con un día de la semana\n",
    "~~~\n",
    "    "
   ]
  },
  {
   "cell_type": "code",
   "execution_count": 10,
   "metadata": {
    "collapsed": true
   },
   "outputs": [],
   "source": [
    "# Escribe aquí tu programa\n"
   ]
  },
  {
   "cell_type": "markdown",
   "metadata": {},
   "source": [
    "### *P2_11.  \n",
    "Escribe un programa que lea un entero desde teclado y muestre en la pantalla si el día de la semana correspondiente a dicho número es laborable o no. Si el número es mayor que 7, el programa nos indicará que no es un día de la semana.   \n",
    "Ejemplo: \n",
    "~~~\n",
    "Por favor, escribe un número: 6\n",
    "NO es un día laborable\n",
    "~~~\n",
    "Ejemplo: \n",
    "~~~\n",
    "Por favor, escribe un número: 2\n",
    "Es un día laborable\n",
    "~~~\n",
    "Ejemplo: \n",
    "~~~\n",
    "Por favor, escribe un número: 8\n",
    "No se corresponde con un día de la semana\n",
    "~~~"
   ]
  },
  {
   "cell_type": "code",
   "execution_count": 11,
   "metadata": {
    "collapsed": true
   },
   "outputs": [],
   "source": [
    "# Escribe aquí tu programa\n"
   ]
  },
  {
   "cell_type": "markdown",
   "metadata": {},
   "source": [
    "### *P2_12.  \n",
    "Escribe un programa que lea tres números enteros y nos diga si alguno es la suma de los otros dos. En el caso de que así sea, el programa debe mostrar los números ordenados de forma que se obtenga el resultado.  \n",
    "Ejemplo: \n",
    "~~~\n",
    "Por favor, introduce tres enteros: \n",
    "1 \n",
    "2 \n",
    "4\n",
    "Ninguno es la suma de los otros dos\n",
    "~~~\n",
    "Ejemplo: \n",
    "~~~\n",
    "Por favor, introduce tres enteros:\n",
    "3 \n",
    "1 \n",
    "2\n",
    "1 + 2 = 3\n",
    "~~~"
   ]
  },
  {
   "cell_type": "code",
   "execution_count": null,
   "metadata": {
    "collapsed": true
   },
   "outputs": [],
   "source": [
    "# Escribe aquí tu programa"
   ]
  }
 ],
 "metadata": {
  "kernelspec": {
   "display_name": "Python 3",
   "language": "python",
   "name": "python3"
  },
  "language_info": {
   "codemirror_mode": {
    "name": "ipython",
    "version": 3
   },
   "file_extension": ".py",
   "mimetype": "text/x-python",
   "name": "python",
   "nbconvert_exporter": "python",
   "pygments_lexer": "ipython3",
   "version": "3.7.3"
  }
 },
 "nbformat": 4,
 "nbformat_minor": 2
}
