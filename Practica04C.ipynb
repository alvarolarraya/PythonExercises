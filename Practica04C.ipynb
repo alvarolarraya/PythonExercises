{
 "cells": [
  {
   "cell_type": "markdown",
   "metadata": {},
   "source": [
    "# Práctica 04. Cadenas."
   ]
  },
  {
   "cell_type": "markdown",
   "metadata": {},
   "source": [
    "# Índice de ejercicios\n",
    "\n",
    "[P4_01. Cuenta mayúsculas](#P4_01.)  \n",
    "[P4_02. Busca carácter](#P4_02.)  \n",
    "[P4_03. Terminadas en s](#P4_03.)  \n",
    "[P4_04. Subsecuencia de dígitos](#P4_04.)   \n",
    "[P4_05. Algún dígito](#P4_05.)  \n",
    "[P4_06. Todos dígitos](#P4_06.)  \n",
    "[P4_07. Cambia dígitos por guión](#P4_07.)   \n",
    "[P4_08. Secuencia + y -](#P4_08.)   \n",
    "[P4_09. Palíndromo](#P4_09.)  \n",
    "[P4_10. Triángulo invertido](#P4_10.)    \n",
    "[P4_11. Mayúsculas primero](#P4_11.)  \n"
   ]
  },
  {
   "cell_type": "markdown",
   "metadata": {},
   "source": [
    "### P4_01.  \n",
    "Desarrolla un programa que lea una cadena de caracteres y cuente el número de mayúsculas y del resto de caracteres que contiene.  \n",
    "Ejemplo:  \n",
    "~~~\n",
    "Introduce una frase: La caSa tiENe UnA PuertA  \n",
    "La frase tiene 8 mayúsculas y 16 caracteres que no lo son\n",
    "~~~\n"
   ]
  },
  {
   "cell_type": "code",
   "execution_count": 2,
   "metadata": {},
   "outputs": [
    {
     "name": "stdout",
     "output_type": "stream",
     "text": [
      "Introduce una frase: La caSa tiENe UnA PuertA\n",
      "La frase tiene 8 mayúsculas y 16 caracteres que no lo son\n"
     ]
    }
   ],
   "source": [
    "frase= input(\"Introduce una frase: \")\n",
    "mayus= 0\n",
    "otro= 0\n",
    "for i in frase:\n",
    "    if \"A\"<=i<=\"Z\":\n",
    "        mayus= mayus+1\n",
    "    else:\n",
    "        otro= otro+1\n",
    "print(\"La frase tiene {} mayúsculas y {} caracteres que no lo son\".format(mayus,otro))\n"
   ]
  },
  {
   "cell_type": "markdown",
   "metadata": {},
   "source": [
    "### *P4_02.  \n",
    "Escribe un programa que tome un carácter introducido por el usuario. Posteriormente pedirá al usuario una frase. El programa nos indicará en qué posición de la frase aparece dicho carácter por primera vez y cuántas veces está.   \n",
    "Ejemplo:  \n",
    "~~~\n",
    "Introduce un carácter: r  \n",
    "Introduce una frase: En enero iremos a Roma con una caravana.  \n",
    "Hay 3 caracteres r y el primero está en la posición 6\n",
    "~~~\n"
   ]
  },
  {
   "cell_type": "code",
   "execution_count": 8,
   "metadata": {},
   "outputs": [
    {
     "name": "stdout",
     "output_type": "stream",
     "text": [
      "Introduce un carácter: r\n",
      "Introduce una frase: En enero iremos a Roma con una caravana.\n",
      "Hay 3 caracteres r y el primero está en la posición 6\n"
     ]
    }
   ],
   "source": [
    "caracter= input(\"Introduce un carácter: \")\n",
    "frase= input(\"Introduce una frase: \")\n",
    "posicion= 0\n",
    "contador= 0\n",
    "primera= 0\n",
    "for i in frase:\n",
    "    if i==caracter:\n",
    "        contador= contador+1\n",
    "        if primera==0:\n",
    "            primera=posicion\n",
    "    posicion= posicion+1\n",
    "print(\"Hay {} caracteres {} y el primero está en la posición {}\".format(contador, caracter, primera))"
   ]
  },
  {
   "cell_type": "markdown",
   "metadata": {},
   "source": [
    "### *P4_03.  \n",
    "Implementa un programa que solicite una cadena de caracteres (debe ser una frase) y nos diga cuántas palabras terminan en ‘s’.  \n",
    "Ejemplo:  \n",
    "~~~\n",
    "Introduce una frase: Esta es una frase para probar el programa que cuenta palabras.  \n",
    "El número de palabras terminadas en s es 2\n",
    "~~~"
   ]
  },
  {
   "cell_type": "code",
   "execution_count": 11,
   "metadata": {},
   "outputs": [
    {
     "name": "stdout",
     "output_type": "stream",
     "text": [
      "Introduce una frase: Esta es una frase para probar el programa que cuenta palabras.\n",
      "El número de palabras terminadas en s es 2\n"
     ]
    }
   ],
   "source": [
    "frase= input(\"Introduce una frase: \")\n",
    "contador= 0\n",
    "anterior= frase[0]\n",
    "for i in frase:\n",
    "    if (i==\" \" or i==\".\") and (anterior==\"s\"):\n",
    "        contador= contador+1\n",
    "    anterior= i\n",
    "print(\"El número de palabras terminadas en s es {}\".format(contador))\n",
    "        "
   ]
  },
  {
   "cell_type": "markdown",
   "metadata": {},
   "source": [
    "### P4_04.  \n",
    "Crea un programa que lea una secuencia de caracteres y devuelva la longitud de la mayor subsecuencia de dígitos que hayan sido introducidos.  \n",
    "Ejemplo:  \n",
    "~~~\n",
    "Introduce una cadena: efg316er4li98bdtr421p43  \n",
    "La longitud de la mayor subsecuencia de dígitos es 3  \n",
    "~~~\n",
    "\n",
    "    "
   ]
  },
  {
   "cell_type": "code",
   "execution_count": 13,
   "metadata": {},
   "outputs": [
    {
     "name": "stdout",
     "output_type": "stream",
     "text": [
      "Introduce una cadena: efg316er4li98bdtr421p43\n",
      "La longitud de la mayor subsecuencia de dígitos es  3\n"
     ]
    }
   ],
   "source": [
    "cadena=input(\"Introduce una cadena: \")\n",
    "contador= 0\n",
    "mayor= 0\n",
    "for i in cadena:\n",
    "    if \"0\"<=i<=\"9\":\n",
    "        contador= contador+1\n",
    "        if contador>mayor:\n",
    "            mayor=contador\n",
    "    else:\n",
    "        contador= 0\n",
    "print(\"La longitud de la mayor subsecuencia de dígitos es \", mayor)\n"
   ]
  },
  {
   "cell_type": "markdown",
   "metadata": {},
   "source": [
    "### P4_05.  \n",
    "Crea un programa que lea una cadena de caracteres y nos diga si contiene ALGÚN dígito.\n",
    "~~~\n",
    "Introduce una cadena: efg316er4li98bdtr421p43  \n",
    "La cadena contiene al menos un dígito\n",
    "~~~\n",
    "\n",
    "    "
   ]
  },
  {
   "cell_type": "code",
   "execution_count": 17,
   "metadata": {},
   "outputs": [
    {
     "name": "stdout",
     "output_type": "stream",
     "text": [
      "Introduce una cadena: efg316er4li98bdtr421p43\n",
      "La cadena contiene al menos un dígito\n"
     ]
    }
   ],
   "source": [
    "cadena= input(\"Introduce una cadena: \")\n",
    "contador= 0\n",
    "for i in cadena:\n",
    "    if \"0\"<=i<=\"9\":\n",
    "        contador= 1\n",
    "        break\n",
    "if contador==1:\n",
    "    print(\"La cadena contiene al menos un dígito\")\n",
    "elif contador==0:\n",
    "    print(\"La cadena no contiene ningún dígito\")"
   ]
  },
  {
   "cell_type": "markdown",
   "metadata": {},
   "source": [
    "### *P4_06.  \n",
    "Crea un programa que lea una cadena de caracteres y nos diga si TODOS son dígitos.\n",
    "~~~\n",
    "Introduce una cadena: efg316er4li98bdtr421p43  \n",
    "No todos los caracteres son dígitos\n",
    "~~~\n",
    "\n",
    "    "
   ]
  },
  {
   "cell_type": "code",
   "execution_count": 10,
   "metadata": {},
   "outputs": [
    {
     "name": "stdout",
     "output_type": "stream",
     "text": [
      "Introduce una cadena: efg316er4li98bdtr421p43\n",
      "La cadena NO contiene todo dígitos\n"
     ]
    }
   ],
   "source": [
    "cadena= input(\"Introduce una cadena: \")\n",
    "contador= 0\n",
    "for i in cadena:\n",
    "    if \"0\"<=i<=\"9\":\n",
    "        contador= 0\n",
    "    else:\n",
    "        contador= 1\n",
    "        break\n",
    "if contador==1:\n",
    "    print(\"La cadena NO contiene todo dígitos\")\n",
    "elif contador==0:\n",
    "    print(\"La cadena SÍ contiene todo dígitos\")"
   ]
  },
  {
   "cell_type": "markdown",
   "metadata": {},
   "source": [
    "### P4_07.  \n",
    "Crea un programa que lea una cadena de caracteres y cree una nueva cadena sustituyendo todos los dígitos por un guíon.\n",
    "~~~\n",
    "Introduce una cadena: efg316er4li98bdtr421p43  \n",
    "La nueva cadena es: efg---er-li--bdtr---p--\n",
    "~~~\n",
    "\n",
    "    "
   ]
  },
  {
   "cell_type": "code",
   "execution_count": 4,
   "metadata": {},
   "outputs": [
    {
     "name": "stdout",
     "output_type": "stream",
     "text": [
      "Introduce una cadena: efg316er4li98bdtr421p43\n",
      "efg---er-li--bdtr---p--\n"
     ]
    }
   ],
   "source": [
    "cadena= input(\"Introduce una cadena: \")\n",
    "cadena2= \"\"\n",
    "for i in cadena:\n",
    "    if \"0\"<=i<=\"9\":\n",
    "        cadena2= cadena2+\"-\"\n",
    "    else:\n",
    "        cadena2= cadena2+i\n",
    "print(cadena2)"
   ]
  },
  {
   "cell_type": "markdown",
   "metadata": {},
   "source": [
    "### *P4_08.  \n",
    "Escribe un programa que lea una secuencia de caracteres ‘+’ y ‘-‘ y escriba la longitud de cada secuencia de signos ‘+’ y ‘-‘.  \n",
    "Ejemplo: \n",
    "~~~\n",
    "Introduce la secuencia: +++-++----  \n",
    "3 1 2 4\n",
    "~~~\n"
   ]
  },
  {
   "cell_type": "code",
   "execution_count": 14,
   "metadata": {},
   "outputs": [
    {
     "name": "stdout",
     "output_type": "stream",
     "text": [
      "Introduce la secuencia: +++-++----\n",
      "3 1 2 4 "
     ]
    }
   ],
   "source": [
    "cadena= input(\"Introduce la secuencia: \")\n",
    "n= len(cadena)\n",
    "anterior= cadena[0]\n",
    "contador=0\n",
    "for i in range(len(cadena)): \n",
    "    if i==n-1:\n",
    "        contador=contador+1\n",
    "        print(contador,end=' ')\n",
    "    else:\n",
    "        if anterior==cadena[i]:\n",
    "            contador= contador+1\n",
    "        elif anterior!=cadena[i]:\n",
    "            print(contador,end=' ')\n",
    "            contador=1\n",
    "    if cadena[i]==\"+\":\n",
    "        anterior= \"+\"\n",
    "    elif cadena[i]==\"-\":\n",
    "        anterior= \"-\""
   ]
  },
  {
   "cell_type": "markdown",
   "metadata": {},
   "source": [
    "### P4_09.  \n",
    "Escribe un programa que lea una cadena de caracteres y compruebe si es un palíndromo (Un palíndromo es una palabra o frase que se lee igual al derecho y al revés, por ejemplo: rayar).  \n",
    "Ejemplo:  \n",
    "~~~\n",
    "Introduce una cadena de caracteres: anilina\n",
    "La cadena anilina es palíndroma\n",
    "~~~\n",
    "Mejora el programa para que detecte frases palíndromas tales como:\n",
    "~~~\n",
    "Dábale arroz a la zorra el abad\n",
    "~~~"
   ]
  },
  {
   "cell_type": "code",
   "execution_count": 22,
   "metadata": {},
   "outputs": [
    {
     "name": "stdout",
     "output_type": "stream",
     "text": [
      "Introduce una cadena de caracteres: Dábale arroz a la zorra el abad\n",
      "La cadena SÍ es palíndroma\n"
     ]
    }
   ],
   "source": [
    "cadena= input(\"Introduce una cadena de caracteres: \")\n",
    "lista=cadena.split()\n",
    "cadena=\"\".join(lista)\n",
    "cadena=cadena.replace(\"á\", \"a\").replace(\"é\", \"e\").replace(\"í\", \"i\").replace(\"ó\", \"o\").replace(\"ú\", \"u\")\n",
    "cadena=cadena.lower()\n",
    "cadena2=cadena[::-1]\n",
    "if cadena==cadena2:\n",
    "    print(\"La cadena SÍ es palíndroma\")\n",
    "else:\n",
    "    print(\"La cadena NO es palíndroma\")"
   ]
  },
  {
   "cell_type": "markdown",
   "metadata": {},
   "source": [
    "### *P4_10.  \n",
    "Escribe un programa que lea una palabra. El programa mostrará en pantalla un dibujo como el del ejemplo.\n",
    "\n",
    "Ejemplos:  \n",
    "~~~\n",
    "Introduce la palabra: TARAZONA\n",
    "T  A  R  A  Z  O  N  A       \n",
    "   A  R  A  Z  O  N     \n",
    "      R  A  Z  O    \n",
    "         A  Z    \n",
    "\n",
    "Introduce la palabra: CADIZ\n",
    "C  A  D  I  Z  \n",
    "   A  D  I\t\n",
    "      D\t\t\n",
    "~~~\n"
   ]
  },
  {
   "cell_type": "code",
   "execution_count": 31,
   "metadata": {},
   "outputs": [
    {
     "name": "stdout",
     "output_type": "stream",
     "text": [
      "Introduce la palabra: CADIZ\n",
      "CADIZ\n",
      " ADI\n",
      "  D\n"
     ]
    }
   ],
   "source": [
    "cadena=input(\"Introduce la palabra: \")\n",
    "elementos=len(cadena)\n",
    "n=elementos\n",
    "a=0\n",
    "contador=0\n",
    "fila=1\n",
    "if n%2==0:\n",
    "    while (contador!=(elementos)):\n",
    "        for i in range(1,fila):\n",
    "            print(\" \", end='')\n",
    "        fila=fila+1\n",
    "        print(cadena[a:n])\n",
    "        a=a+1\n",
    "        n=n-1\n",
    "        contador=contador+2\n",
    "else:\n",
    "    while contador!=(elementos+1):\n",
    "        for i in range(1,fila):\n",
    "            print(\" \", end='')\n",
    "        fila=fila+1\n",
    "        print(cadena[a:n])\n",
    "        a=a+1\n",
    "        n=n-1\n",
    "        contador=contador+2"
   ]
  },
  {
   "cell_type": "markdown",
   "metadata": {},
   "source": [
    "### P4_11.  \n",
    "Escribe un programa que lea una cadena de caracteres **c**. El programa construirá una nueva cadena **s** con los mismos caracteres de **c** ordenados de manera que las mayúsculas vayan primero.  \n",
    "Ejemplo: \n",
    "\n",
    "~~~\n",
    "Introduce una cadena de caracteres: zCHnsTrcA   \n",
    "La nueva cadena es: CHTAznsrc  \n",
    "~~~\n",
    "\n"
   ]
  },
  {
   "cell_type": "code",
   "execution_count": 33,
   "metadata": {},
   "outputs": [
    {
     "name": "stdout",
     "output_type": "stream",
     "text": [
      "Introduce una cadena de caracteres: zCHnsTrcA\n",
      "La nueva cadena es: CHTAznsrc\n"
     ]
    }
   ],
   "source": [
    "c=input(\"Introduce una cadena de caracteres: \")\n",
    "s=\"\"\n",
    "minus=\"\"\n",
    "for i in c:\n",
    "    if \"A\"<=i<=\"Z\":\n",
    "        s=s+i\n",
    "    elif \"a\"<=i<=\"z\":\n",
    "        minus=minus+i\n",
    "s=s+minus\n",
    "print(\"La nueva cadena es:\", s)"
   ]
  }
 ],
 "metadata": {
  "kernelspec": {
   "display_name": "Python 3",
   "language": "python",
   "name": "python3"
  },
  "language_info": {
   "codemirror_mode": {
    "name": "ipython",
    "version": 3
   },
   "file_extension": ".py",
   "mimetype": "text/x-python",
   "name": "python",
   "nbconvert_exporter": "python",
   "pygments_lexer": "ipython3",
   "version": "3.7.3"
  }
 },
 "nbformat": 4,
 "nbformat_minor": 2
}
