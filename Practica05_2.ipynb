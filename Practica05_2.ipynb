{
 "cells": [
  {
   "cell_type": "markdown",
   "metadata": {},
   "source": [
    "# Práctica 05. Funciones."
   ]
  },
  {
   "cell_type": "markdown",
   "metadata": {},
   "source": [
    "# Índice de ejercicios\n",
    "\n",
    "[P5_01. Operaciones](#P5_01.)  \n",
    "[P5_02. Cruza palabras](#P5_02.)  \n",
    "[P5_03. Figura](#P5_03.)   \n",
    "[P5_04. Multiplica listas](#P5_04.)   \n",
    "[P5_05. Crea matriz ROMA](#P5_05.)   \n",
    "[P5_06. Construye matriz de enteros](#P5_06.)   \n",
    "[P5_07. Asigna estudiantes](#P5_07.)   \n",
    "[P5_08. Coincidencias. Suma. Diferencia](#P5_08.)   \n",
    "[P5_09. Distintos](#P5_09.)   \n",
    "[P5_10. Cuadrado](#P5_10.)   \n",
    "[P5_11. L invertida](#P5_11.)   \n",
    "[P5_12. Cruz](#P5_12.)   \n",
    "[P5_13. Diferencia en valor absoluto](#P5_13.)   \n",
    "[P5_14. Suma cuadrados](#P5_14.)   \n",
    "[P5_15. Combina letras](#P5_15.) \n",
    "  "
   ]
  },
  {
   "cell_type": "markdown",
   "metadata": {},
   "source": [
    "### P5_01.  \n",
    "Escribe una función llamada **operaciones** que tome dos números enteros **n1** y **n2** y muestre en pantalla su suma, su resta y su producto. Deberás leer los dos números desde el programa principal, así como llamar a la función para que calcule y  muestre los resultados.  \n",
    "Ejemplo:  \n",
    "~~~\n",
    "Escribe el primer número: 3  \n",
    "Escribe el segundo número: 5   \n",
    "La suma es 8, la resta es -2 y el producto es 15  \n",
    "\n",
    "~~~\n"
   ]
  },
  {
   "cell_type": "code",
   "execution_count": 3,
   "metadata": {},
   "outputs": [
    {
     "name": "stdout",
     "output_type": "stream",
     "text": [
      "Escribe el primer número: 3\n",
      "Escribe el segundo número: 5\n",
      "La suma es 8, la resta es -2 y el producto es 15\n"
     ]
    }
   ],
   "source": [
    "def operaciones(n1,n2):\n",
    "    producto= n1*n2\n",
    "    suma= n1+n2\n",
    "    resta= n1-n2\n",
    "    return suma,resta,producto\n",
    "a=int(input(\"Escribe el primer número: \"))\n",
    "b=int(input(\"Escribe el segundo número: \"))\n",
    "suma,resta,producto= operaciones(a,b)\n",
    "print(\"La suma es {}, la resta es {} y el producto es {}\".format(suma,resta,producto))"
   ]
  },
  {
   "cell_type": "markdown",
   "metadata": {},
   "source": [
    "### P5_02.  \n",
    "Escribe una función llamada **dibuja_cruz** que tome como parámetros una cadena de caracteres y un entero y dibuje en pantalla patrones como los mostrados en el ejemplo. En el programa principal, tienes que almacenar una palabra en una cadena **t** y un entero **num** (**num**<=len(**t**)) y enviarlos como parámetros a la función **dibuja_cruz**.  \n",
    "Ejemplo:  \n",
    "~~~\n",
    "Escribe una palabra: ZAPATO                  Escribe una palabra: ZAPATO\n",
    "Escribe un número: 4                         Escribe un número: 2  \n",
    "\n",
    "            Z                                   Z  \n",
    "            A                               Z   A   P   A   T   O  \n",
    "            P                                   P  \n",
    "Z   A   P   A   T   O                           A  \n",
    "            T                                   T  \n",
    "            O                                   O  \n",
    "\n",
    "~~~\n"
   ]
  },
  {
   "cell_type": "code",
   "execution_count": 19,
   "metadata": {},
   "outputs": [
    {
     "name": "stdout",
     "output_type": "stream",
     "text": [
      "Escribe una palabra: ZAPATO\n",
      "Escribe un número: 2\n",
      "  Z     \n",
      "Z A P A T O\n",
      "  P     \n",
      "  A     \n",
      "  T     \n",
      "  O     \n"
     ]
    }
   ],
   "source": [
    "def dibuja_cruz(t,num):\n",
    "    for i in range(len(t)):\n",
    "        if i!=(num-1):\n",
    "            for j in range(num-1):\n",
    "                print(\"  \",end='')\n",
    "            print(t[i],end='')\n",
    "            for k in range(num,len(t)+1):\n",
    "                print(\" \",end='')\n",
    "        else:\n",
    "            print(\" \".join(t),end='')\n",
    "        print()\n",
    "    return\n",
    "palabra=input(\"Escribe una palabra: \")\n",
    "lista=[]\n",
    "n=int(input(\"Escribe un número: \"))\n",
    "for i in range(len(palabra)):\n",
    "    lista.append(palabra[i])\n",
    "dibuja_cruz(lista,n)"
   ]
  },
  {
   "cell_type": "markdown",
   "metadata": {},
   "source": [
    "### P5_03.  \n",
    "Escribe una funciòn llamada **figura** que reciba como parámetros de entrada un entero **n** y dos caracteres, **f** y **p**. El carácter **f** tendrá el valor ‘t’ si la figura es un triángulo y ‘c’ si es un cuadrado. El carácter **p** será el que usaremos para el tamaño de la figura. Escribe ahora un programa principal que lea un número entero y dos caracteres y llame a la función que mostrará una figura como la del ejemplo.   \n",
    "Ejemplo:  \n",
    "~~~\n",
    "Escribe un número: 3                   Escribe un número: 4  \n",
    "Escribe un carácter (t/c): t           Escribe un carácter (t/c): c  \n",
    "Escribe otro carácter: m               Escribe otro carácter: a  \n",
    "\n",
    "m                                         a a a a\n",
    "m m                                       a a a a\n",
    "m m m                                     a a a a \n",
    "                                          a a a a \n",
    "\n",
    "~~~\n"
   ]
  },
  {
   "cell_type": "code",
   "execution_count": 32,
   "metadata": {},
   "outputs": [
    {
     "name": "stdout",
     "output_type": "stream",
     "text": [
      "Escribe un número: 4\n",
      "Escribe un carácter (t/c):c\n",
      "Escribe otro carácter: a\n",
      "a a a a \n",
      "a a a a \n",
      "a a a a \n",
      "a a a a \n"
     ]
    }
   ],
   "source": [
    "def figura(f,p,n):\n",
    "    if f==\"c\":\n",
    "        cadena=p+\" \"\n",
    "        lista=cadena*n\n",
    "        for i in range(n):\n",
    "            print(lista,end='')\n",
    "            print()\n",
    "    elif f==\"t\":\n",
    "        for i in range(n):\n",
    "            for j in range(i+1):\n",
    "                print(p,end=' ')\n",
    "            print()\n",
    "    return\n",
    "num=int(input(\"Escribe un número: \"))\n",
    "dibujo=input(\"Escribe un carácter (t/c):\")\n",
    "caracter=input(\"Escribe otro carácter: \")\n",
    "if dibujo==\"c\" or dibujo==\"t\":\n",
    "    figura(dibujo,caracter,num)\n",
    "else:\n",
    "    print(\"El primer caracter debe ser o -t- o -c-\")"
   ]
  },
  {
   "cell_type": "markdown",
   "metadata": {},
   "source": [
    "### P5_04.  \n",
    "Escribe un programa que almacene números en dos listas **a** y **b** de tamaño **N** (**N** constante conocida) y devuelva otra lista **c** que contenga la multiplicación de **a** y **b** elemento a elemento. Diseñaremos una función llamada **lee_lista** que usaremos para leer el vector **a** y el vector **b** en dos llamadas sucesivas. También crearemos una función llamada **construye** para obtener **c** a partir de **a** y **b** y finalmente diseñaremos otra función **escribe_lista** que muestre por pantalla **a**, **b** y **c** en tres llamadas sucesivas.     \n",
    "Ejemplo: (para **N**=6)  \n",
    "~~~\n",
    "Escribe 6 números: 2   2   6   3  11   5  \n",
    "Escribe otros 6 números: 1   7   8  16   4   6   \n",
    "La lista a es: 2   2   6   3  11   5  \n",
    "La lista b es: 1   7   8  16   4   6  \n",
    "La lista c es: 2  14  48  48  44  30\n",
    "\n",
    "~~~\n"
   ]
  },
  {
   "cell_type": "code",
   "execution_count": 39,
   "metadata": {},
   "outputs": [
    {
     "name": "stdout",
     "output_type": "stream",
     "text": [
      "¿Cuantos elementos tienen las listas?: 6\n",
      "Escribe 6 números:\n",
      "2\n",
      "2\n",
      "6\n",
      "3\n",
      "11\n",
      "5\n",
      "Escribe 6 números:\n",
      "1\n",
      "7\n",
      "8\n",
      "16\n",
      "4\n",
      "6\n",
      "La lista a es: \n",
      "2 2 6 3 11 5 \n",
      "La lista b es: \n",
      "1 7 8 16 4 6 \n",
      "La lista c es: \n",
      "2 14 48 48 44 30 \n"
     ]
    }
   ],
   "source": [
    "def lee_lista(N,lista):\n",
    "    print(\"Escribe {} números:\".format(N))\n",
    "    for i in range(N):\n",
    "        lista.append(int(input()))\n",
    "    return lista\n",
    "def construye(lista,lista2):\n",
    "    lista_producto= []\n",
    "    for i in range(N):\n",
    "        lista_producto.append(lista[i]*lista2[i])\n",
    "    return lista_producto\n",
    "def escribe_lista(lista):\n",
    "    for i in range(len(lista)):\n",
    "        print(lista[i],end=' ')\n",
    "    print()\n",
    "    return\n",
    "a=[]\n",
    "N= int(input(\"¿Cuantos elementos tienen las listas?: \"))\n",
    "b=[]\n",
    "lee_lista(N,a)\n",
    "lee_lista(N,b)\n",
    "c=construye(a,b)\n",
    "print(\"La lista a es: \")\n",
    "escribe_lista(a)\n",
    "print(\"La lista b es: \")\n",
    "escribe_lista(b)\n",
    "print(\"La lista c es: \")\n",
    "escribe_lista(c)"
   ]
  },
  {
   "cell_type": "markdown",
   "metadata": {},
   "source": [
    "### P5_05.  \n",
    "Escribe una función que tome como parámetros de entrada una cadena de caracteres (en mayúsculas) y una lista de enteros de tamaño **n** (**n** la conseguiremos usando **len()** sobre la palabra introducida). Los enteros de la segunda lista deben ser menores o iguales que **n**. La función  devolverá al programa principal una matriz (**n**x**n**) donde las letras del primer vector estarán distribuidas como en el ejemplo.       \n",
    "Ejemplo:  \n",
    "~~~\n",
    "Escribe una palabra: ROMA  \n",
    "Escribe 4 números entre 1 y 4: 4 2 1 3  \n",
    "La matriz resultante es:  \n",
    "\n",
    "\tR\n",
    "\tR           A\n",
    "\tR   O       A\n",
    "\tR   O   M   A\n",
    "\n",
    "~~~\n"
   ]
  },
  {
   "cell_type": "code",
   "execution_count": 9,
   "metadata": {},
   "outputs": [
    {
     "name": "stdout",
     "output_type": "stream",
     "text": [
      "Escribe una palabra: roma\n",
      "Escribre 4 números entre 1 y 4, menores o iguales que 4: \n",
      "4\n",
      "2\n",
      "1\n",
      "3\n",
      "La matriz resultante es: \n",
      "R       \n",
      "R     A \n",
      "R O   A \n",
      "R O M A \n"
     ]
    }
   ],
   "source": [
    "def matriz(mayusculas,lista_enteros):\n",
    "    print(\"La matriz resultante es: \")\n",
    "    for i in range(n):\n",
    "        for j in range(n):\n",
    "            if ((n-lista_enteros[j])<=i):\n",
    "                print(mayusculas[j], end=' ')\n",
    "            else:\n",
    "                print(\" \",end= ' ')\n",
    "        print()\n",
    "    return\n",
    "palabra= input(\"Escribe una palabra: \")\n",
    "n= len(palabra)\n",
    "palabra_mayusculas= palabra.upper()\n",
    "lista=[]\n",
    "print(\"Escribre {} números entre 1 y {}, menores o iguales que {}: \".format(n,n,n))\n",
    "for i in range(n):\n",
    "    num= int(input())\n",
    "    lista.append(num)\n",
    "matriz(palabra_mayusculas,lista)"
   ]
  },
  {
   "cell_type": "markdown",
   "metadata": {},
   "source": [
    "### P5_06.  \n",
    "Escribe una función llamada **construye_matriz** que cree una matriz **m**(**N**x**N**) a partir de una lista **t** de **N** enteros menores o iguales que  **N** (**N** constante conocida). La matriz debe ser construida de la siguiente forma: La **i**-ésima columna estará formada por la secuencia decreciente que empieza en el valor **t[i]**\n",
    "Deberás diseñar también una función llamada **lee_lista** (puedes reutilizar la del ejercicio P5_04) para leer **t** y otra función llamada **escribe_matriz** que usaremos para mostrar la matriz en la pantalla.  \n",
    "Ejemplo: (para N=7)  \n",
    "~~~\n",
    "Escribe los elementos de la lista: 4  3  1  7  2  3  0\n",
    "La matriz m es:  \n",
    "\n",
    "\t4  3  1  7  2  3  0\n",
    "\t3  2  0  6  1  2  0\n",
    "\t2  1  0  5  0  1  0\n",
    "\t1  0  0  4  0  0  0\n",
    "\t0  0  0  3  0  0  0\n",
    "\t0  0  0  2  0  0  0\n",
    "\t0  0  0  1  0  0  0\n",
    "~~~\n"
   ]
  },
  {
   "cell_type": "code",
   "execution_count": 17,
   "metadata": {},
   "outputs": [
    {
     "name": "stdout",
     "output_type": "stream",
     "text": [
      "Escribe 7 números:\n",
      "4\n",
      "3\n",
      "1\n",
      "7\n",
      "2\n",
      "3\n",
      "0\n",
      "4 3 1 7 2 3 0 \n",
      "3 2 0 6 1 2 0 \n",
      "2 1 0 5 0 1 0 \n",
      "1 0 0 4 0 0 0 \n",
      "0 0 0 3 0 0 0 \n",
      "0 0 0 2 0 0 0 \n",
      "0 0 0 1 0 0 0 \n"
     ]
    }
   ],
   "source": [
    "N= 7\n",
    "def lee_lista(N,lista):\n",
    "    print(\"Escribe {} números:\".format(N))\n",
    "    for i in range(N):\n",
    "        lista.append(int(input()))\n",
    "    return lista\n",
    "def construye_matriz(lista_enteros):\n",
    "    matriz= []\n",
    "    for i in range(N):\n",
    "        fila= []\n",
    "        for j in range(N):\n",
    "            if ((lista_enteros[j]-i)>=0):\n",
    "                fila.append(lista_enteros[j]-i)\n",
    "            else:\n",
    "                fila.append(0)\n",
    "        matriz.append(fila)\n",
    "    return matriz\n",
    "def escribe_matriz(matriz):\n",
    "    for i in range(N):\n",
    "        for j in range(N):\n",
    "            print(matriz[i][j], end= ' ')\n",
    "        print()    \n",
    "    return\n",
    "lista_enteros= []\n",
    "lista_enteros= lee_lista(N,lista_enteros)\n",
    "matriz= construye_matriz(lista_enteros)\n",
    "escribe_matriz(matriz, lista_enteros)"
   ]
  },
  {
   "cell_type": "markdown",
   "metadata": {},
   "source": [
    "### P5_07.  \n",
    "Escribe un programa que lea un carácter que represente la inicial del apellido de un estudiante. Escribe ahora una función llamada **asigna_clase** que devuelva el número de aula a la que ha sido asignado el estudiante. La distribución de aulas es:   \n",
    "\n",
    "\tDe la A a la F: Aula 1  \n",
    "\tDe la G a la J: Aula 2  \n",
    "\tDe la K a la Ñ: Aula 3  \n",
    "\tDe la O a la Z: Aula 4   \n",
    "    \n",
    "Nota: si el carácter introducido no está entre las letras del alfabeto, el programa pedirá otro carácter hasta que sea correcto.  \n",
    "Ejemplo:  \n",
    "~~~\n",
    "Escriba la inicial: M\n",
    "Asignado al Aula 3\n",
    "\n",
    "Escriba la inicial: &\n",
    "No es un carácter válido. Escriba la inicial: %\n",
    "No es un carácter válido. Escriba la inicial: c\n",
    "Asignado al Aula 1\n",
    "~~~\n"
   ]
  },
  {
   "cell_type": "code",
   "execution_count": 23,
   "metadata": {},
   "outputs": [
    {
     "name": "stdout",
     "output_type": "stream",
     "text": [
      "Escriba la inicial (en mayúsculas): .\n",
      "No es un carácter válido.\n",
      "Escriba la inicial (en mayúsculas): M\n",
      "Asignado al Aula 3\n"
     ]
    }
   ],
   "source": [
    "def asigna_clase(inicial):\n",
    "    if \"A\"<=inicial<=\"Z\":\n",
    "        if \"A\"<=inicial<=\"F\":\n",
    "            print(\"Asignado al Aula 1\")\n",
    "        elif \"G\"<=inicial<=\"J\":\n",
    "            print(\"Asignado al Aula 2\")\n",
    "        elif \"K\"<=inicial<=\"Ñ\":\n",
    "            print(\"Asignado al Aula 3\")\n",
    "        elif \"O\"<=inicial<=\"Z\":\n",
    "            print(\"Asignado al Aula 4\")\n",
    "        error= 0\n",
    "    else:\n",
    "        error= 1\n",
    "    return error\n",
    "error= 1\n",
    "while (error==1):\n",
    "    error= 0\n",
    "    inicial= input(\"Escriba la inicial (en mayúsculas): \")\n",
    "    error= asigna_clase(inicial)\n",
    "    if error!=0:\n",
    "        print(\"No es un carácter válido.\")"
   ]
  },
  {
   "cell_type": "markdown",
   "metadata": {},
   "source": [
    "### P5_08.  \n",
    "Escribe tres funciones que tomen como parámetros de entrada dos listas de **N** números enteros, **a** y **b**. Estas funciones devolverán respectivamente:   \n",
    "I.\tLa posición del primer elemento coincidente en ambas listas (-1 si no ocurre).  \n",
    "II.\tEl valor de la suma obtenido de la siguiente manera: añadimos 1 si el valor de **a** es mayor que el correspondiente valor en **b**; restamos 1 en la situación contraria y no sumamos nada si los valores son iguales.  \n",
    "III.\tLa máxima diferencia entre un valor de **a** y otro de **b** independientemente de su posición.  \n",
    "También tienes que escribir (o reutilizar) una función para leer un vector.  \n",
    "Ejemplo: (para **N**=6)  \n",
    "~~~\n",
    "Introduce la primera lista: 3   5   6   2  -8   9  \n",
    "Introduce la segunda lista: 6   5  -2   2 -11   8  \n",
    "\n",
    "Los primeros elementos coincidentes están en la posición: 1  \n",
    "La suma solicitada es: 2  \n",
    "La mayor diferencia entre elementos de A y B es: 20  \n",
    "~~~\n",
    "Nota: en el ejemplo, el resultado de la segunda función es 2 = -1 + 0 + 1 + 0 + 1 + 1 y el de la tercera función es 20 = 9 – (–11)  \n"
   ]
  },
  {
   "cell_type": "code",
   "execution_count": 27,
   "metadata": {},
   "outputs": [
    {
     "name": "stdout",
     "output_type": "stream",
     "text": [
      "Introduzca la longitud de la lista: 6\n",
      "Introduce la primera lista:\n",
      "3\n",
      "5\n",
      "6\n",
      "2\n",
      "-8\n",
      "9\n",
      "Introduce la segunda lista:\n",
      "6\n",
      "5\n",
      "-2\n",
      "2\n",
      "-11\n",
      "8\n",
      "Los primeros elementos coincidentes están en la posición:  1\n",
      "La suma solicitada es:  2\n",
      "La mayor diferencia entre elementos de A y B es:  20\n"
     ]
    }
   ],
   "source": [
    "def coincidentes(lista_a,lista_b):\n",
    "    for i in range(len(lista_a)):\n",
    "        if lista_a[i]==lista_b[i]:\n",
    "            posicion= i\n",
    "            break\n",
    "        if lista_a[i]!=lista_b[i] and i==len(lista_a):\n",
    "            posicion= -1\n",
    "    return posicion\n",
    "def suma(a,b):\n",
    "    suma= 0\n",
    "    for i in range(len(a)):\n",
    "        if a[i]>b[i]:\n",
    "            suma= suma+1\n",
    "        elif a[i]<b[i]:\n",
    "            suma= suma-1\n",
    "    return suma\n",
    "def max_diferencia(a,b):\n",
    "    mayor= a[1]-b[1]\n",
    "    for i in range(len(a)):\n",
    "        for j in range(len(a)):\n",
    "            diferencia= a[i]-b[j]\n",
    "            if diferencia<=0:\n",
    "                diferencia= -diferencia\n",
    "            if mayor<diferencia:\n",
    "                mayor= diferencia\n",
    "    return mayor\n",
    "def lee_vector(lista):\n",
    "    for i in range(n):\n",
    "        lista.append(int(input()))\n",
    "    return lista\n",
    "n= int(input(\"Introduzca la longitud de la lista: \"))\n",
    "a=[]\n",
    "b=[]\n",
    "print(\"Introduce la primera lista:\")\n",
    "a= lee_vector(a)\n",
    "print(\"Introduce la segunda lista:\")\n",
    "b= lee_vector(b)\n",
    "posicion= coincidentes(a,b)\n",
    "suma= suma(a,b)\n",
    "mayor= max_diferencia(a,b)\n",
    "print(\"Los primeros elementos coincidentes están en la posición: \", posicion)\n",
    "print(\"La suma solicitada es: \", suma)\n",
    "print(\"La mayor diferencia entre elementos de A y B es: \", mayor)"
   ]
  },
  {
   "cell_type": "markdown",
   "metadata": {},
   "source": [
    "### P5_09.  \n",
    "Escribe una función llamada **distintos** que reciba como parámetro de entrada una matriz 3x3 con valores 1, 2 ó 3 y devuelva True cuando cada valor aparezca una sola vez en cada fila y cada columna. Necesitarás también una función para leer la matriz.  \n",
    "Ejemplo:   \n",
    "~~~\n",
    "Escribe la matriz 3x3:  \n",
    "\n",
    "1  2  3\n",
    "3  1  2\n",
    "2  3  1  \n",
    "\n",
    "La función devolverá True\n",
    "\n",
    "Escribe la matriz 3x3:  \n",
    "\n",
    "1  2  2  \n",
    "3  1  2\n",
    "2  3  1  \n",
    "\n",
    "La función devolverá False\n",
    "~~~\n"
   ]
  },
  {
   "cell_type": "code",
   "execution_count": 29,
   "metadata": {},
   "outputs": [
    {
     "name": "stdout",
     "output_type": "stream",
     "text": [
      "Escribe la matriz 3x3: \n",
      "1\n",
      "2\n",
      "2\n",
      "3\n",
      "1\n",
      "2\n",
      "2\n",
      "3\n",
      "1\n",
      "False\n"
     ]
    }
   ],
   "source": [
    "N=3\n",
    "def lee_matriz(matriz,N):\n",
    "    print(\"Escribe la matriz 3x3: \")\n",
    "    for i in range(N):\n",
    "        fila=[]\n",
    "        for j in range(N):\n",
    "            fila.append(int(input()))\n",
    "        matriz.append(fila)\n",
    "    return matriz\n",
    "def distintos(matriz):\n",
    "    respuesta= \"True\"\n",
    "    for i in range(1,N):\n",
    "        for j in range(1,N):\n",
    "            if (matriz[i][0]==matriz[i][j]) or (matriz[0][j]==matriz[i][j]):\n",
    "                respuesta= \"False\"\n",
    "    return respuesta\n",
    "matriz=[]\n",
    "matriz=lee_matriz(matriz,N)\n",
    "respuesta= distintos(matriz)\n",
    "print(respuesta)"
   ]
  },
  {
   "cell_type": "markdown",
   "metadata": {},
   "source": [
    "### P5_10.  \n",
    "\n",
    "Escribe una función **cuadrado**  que tome como parámetro de entrada una lista **t** de **N** (**N** constante conocida) números enteros y devuelva una matriz cuadrada **s** de tamaño **M**x**M** como la del ejemplo (**M** constante conocida asumiendo que cumple **N**<=**M**x**M**). Construiremos otra función para mostrar la matriz por pantalla.     \n",
    "Ejemplo: (para **N**=14, **M**=4)  \n",
    "~~~\n",
    "Escribe la lista: 5  3  9  1  4  1  3  7  8  2  5  7  6  9   \n",
    "La matriz resultante es:  \n",
    "\n",
    "\t5   3   9   1\n",
    "\t4   1   3   7\n",
    "\t8   2   5   7\n",
    "\t6   9   0   0\n",
    "~~~\n"
   ]
  },
  {
   "cell_type": "code",
   "execution_count": 38,
   "metadata": {},
   "outputs": [
    {
     "name": "stdout",
     "output_type": "stream",
     "text": [
      "Escribe la lista:\n",
      "5\n",
      "3\n",
      "9\n",
      "1\n",
      "4\n",
      "1\n",
      "3\n",
      "7\n",
      "8\n",
      "2\n",
      "5\n",
      "7\n",
      "6\n",
      "9\n",
      "[5, 3, 9, 1, 4, 1, 3, 7, 8, 2, 5, 7, 6, 9, 0, 0]\n",
      "5 3 9 1 \n",
      "4 1 3 7 \n",
      "8 2 5 7 \n",
      "6 9 0 0 \n"
     ]
    }
   ],
   "source": [
    "N= 14\n",
    "M= 4\n",
    "def cuadrado(lista):\n",
    "    matriz=[]\n",
    "    for i in range(M):\n",
    "        fila=[]\n",
    "        for j in range(M):\n",
    "            fila.append(lista[j+4*i])\n",
    "        matriz.append(fila)\n",
    "    return matriz\n",
    "def escribe_matriz(matriz):\n",
    "    for i in range(M):\n",
    "        for j in range(M):\n",
    "            print(matriz[i][j], end= ' ')\n",
    "        print()    \n",
    "    return\n",
    "lista= []\n",
    "print(\"Escribe la lista:\")\n",
    "for i in range(N):\n",
    "    lista.append(int(input()))\n",
    "restantes=2*[0]\n",
    "lista= lista+restantes\n",
    "print(lista)\n",
    "matriz= cuadrado(lista)\n",
    "escribe_matriz(matriz)"
   ]
  },
  {
   "cell_type": "markdown",
   "metadata": {},
   "source": [
    "# P5_11.  \n",
    "\n",
    "Escribe una función **lee_matriz** que lea desde teclado una matriz **m**(**N**x**N** con **N** constante conocida).  A continuación diseña una función **suma_valores** que tome dos valores **k, r < N**  leídos en el programa principal y una matriz **m** y devuelva la suma de los valores de la matriz que forman una L invertida con esquina en la posición **[k, r]**, tal como se indica en el dibujo. Finalmente, escribe el programa principal que llame a las funciones anteriores obteniendo el resultado indicado.      \n",
    "Ejemplo: (para N=5)   \n",
    "~~~\n",
    "Escribe una matriz 5x5:   \n",
    "\n",
    "\t3   4   1   5   6\n",
    "\t1   2   3   7   2\n",
    "\t6   2   9   4   1\n",
    "\t5   2   8   4   3\n",
    "    5   9   2   5   3  \n",
    "    \n",
    "Escribe un número que indique la fila(k): 1\n",
    "Escribe otro número para la columna(r): 3\n",
    "El resultado es: 26\n",
    "~~~\n",
    "Nota: la función SUMA devolverá 26 que es el resultado de 1 + 2 + 3 + 7 + 4 + 4 + 5.  \n",
    "\n",
    "   3   4   1   5   6   \n",
    "   **1   2   3   7**   2  \n",
    "   6   2   9   **4**   1  \n",
    "   5   2   8   **4**   3    \n",
    "   5   9   2   **5**   3 \n",
    "\n",
    "\n"
   ]
  },
  {
   "cell_type": "code",
   "execution_count": 48,
   "metadata": {},
   "outputs": [
    {
     "name": "stdout",
     "output_type": "stream",
     "text": [
      "Escribe un número que indique la fila(k): 1\n",
      "Escribe otro número para la columna(r): 3\n",
      "Escribe la matriz 5x5: \n",
      "3\n",
      "4\n",
      "1\n",
      "5\n",
      "6\n",
      "1\n",
      "2\n",
      "3\n",
      "7\n",
      "2\n",
      "6\n",
      "2\n",
      "9\n",
      "4\n",
      "1\n",
      "5\n",
      "2\n",
      "8\n",
      "4\n",
      "3\n",
      "5\n",
      "9\n",
      "2\n",
      "5\n",
      "3\n",
      "El resultado es:  26\n"
     ]
    }
   ],
   "source": [
    "N= 5\n",
    "def lee_matriz(matriz,N):\n",
    "    print(\"Escribe la matriz 5x5: \")\n",
    "    for i in range(N):\n",
    "        fila=[]\n",
    "        for j in range(N):\n",
    "            fila.append(int(input()))\n",
    "        matriz.append(fila)\n",
    "    return matriz\n",
    "def suma_valores(k,r,matriz):\n",
    "    suma1= 0\n",
    "    suma2= 0\n",
    "    for i in range(k,N):\n",
    "        suma1= suma1+matriz[i][r]\n",
    "    for j in range(r):\n",
    "        suma2= suma2+matriz[k][j]\n",
    "    suma= suma1+suma2\n",
    "    return suma\n",
    "matriz= []\n",
    "k= int(input(\"Escribe un número que indique la fila(k): \"))\n",
    "r= int(input(\"Escribe otro número para la columna(r): \"))\n",
    "matriz=lee_matriz(matriz,N)\n",
    "suma= suma_valores(k,r,matriz)\n",
    "print(\"El resultado es: \", suma)"
   ]
  },
  {
   "cell_type": "markdown",
   "metadata": {},
   "source": [
    "#### P5_12.  \n",
    "\n",
    "Escribe una función llamada **cruz** que tome como parámetros de entrada una matriz **m** de dimensión **N**x**N** (**N** constante conocida) y una lista **v** de **N** valores entre 0 y **N**-1. La función devolverá una nueva lista de valores calculados de la siguiente forma: El elemento **i** de la nueva listá será el resultado de sumar los elementos de **m** correspondientes a la columna **v[i]** y restar los de la fila **v[i]**.\n",
    "La función también devolverá la suma de todos los elementos de matriz. \n",
    "Ejemplo: (para **N**=3)   \n",
    "~~~\n",
    "Introduce una matriz 3x3:  \n",
    "\n",
    "\t7   4   3\n",
    "\t2   9   1\n",
    "\t3   6   4  \n",
    "    \n",
    "Introduce una lista: 2  0  1\n",
    "\n",
    "La nueva lista es [-5, -2, 7] y la suma total es 39\n",
    "~~~\n",
    "Nota: El primer elemento de la nueva lista es el resultado de sumar la columna 2: (3, 1, 4) y restar la fila 2: ( 3, 6, 4), resultando -5. De igual manera calcularemos los otros dos componentes de la nueva lista.\n",
    "\n",
    "\n"
   ]
  },
  {
   "cell_type": "code",
   "execution_count": 7,
   "metadata": {},
   "outputs": [
    {
     "name": "stdout",
     "output_type": "stream",
     "text": [
      "Introduce una lista: \n",
      "2\n",
      "0\n",
      "1\n",
      "Escribe la matriz 5x5: \n",
      "7\n",
      "4\n",
      "3\n",
      "2\n",
      "9\n",
      "1\n",
      "3\n",
      "6\n",
      "4\n",
      "La nueva lista es [-5, -2, 7] y la suma total es 39\n"
     ]
    }
   ],
   "source": [
    "N= 3\n",
    "def cruz(matriz, lista):\n",
    "    nueva_lista= []\n",
    "    for i in range(N):\n",
    "        columna= 0\n",
    "        fila= 0\n",
    "        for j in range(N):\n",
    "            columna= columna+matriz[j][lista[i]]\n",
    "            fila= fila+matriz[lista[i]][j]\n",
    "        nueva_lista.append(columna-fila)\n",
    "    return nueva_lista\n",
    "def lee_matriz(matriz,N):\n",
    "    print(\"Escribe la matriz 5x5: \")\n",
    "    for i in range(N):\n",
    "        fila=[]\n",
    "        for j in range(N):\n",
    "            fila.append(int(input()))\n",
    "        matriz.append(fila)\n",
    "    return matriz\n",
    "lista=[]\n",
    "print(\"Introduce una lista: \")\n",
    "for i in range(N):\n",
    "    lista.append(int(input()))\n",
    "matriz= []\n",
    "matriz= lee_matriz(matriz,N)\n",
    "nueva_lista= []\n",
    "nueva_lista= cruz(matriz, lista)\n",
    "suma= 0\n",
    "for i in range(N):\n",
    "    for j in range(N):\n",
    "        suma= suma+matriz[i][j]\n",
    "print(\"La nueva lista es {} y la suma total es {}\".format(nueva_lista,suma))"
   ]
  },
  {
   "cell_type": "markdown",
   "metadata": {},
   "source": [
    "### P5_13.  \n",
    "\n",
    "Diseña una función **lee_lista** para leer una lista **v** de **N** números enteros **N** constante conocida). Diseña otra función **operacion** que tome dos listas **a** y **b** de **N** (elementos cada una y un entero **k**  y devuelva en una nueva lista **c** las posiciones de las listas **a** y **b** para las cuales la diferencia en valor absoluto entre los dos valores correspondientes es menor o igual que **k**. A continuación,  escribe una función **escritura** que muestre una lista en pantalla.  \n",
    "Finalmente, escribe un programa que utilizando las funciones anteriores, lea dos listas y un valor entero, y muestre en pantalla la lista resultante de la transformación.  \n",
    "Ejemplo (para **N**=6): \n",
    "~~~\n",
    "Escribe los 6 elementos de la lista a: 3   6   7   2   8   4  \n",
    "Escribe los 6 elementos de la lista b: 1   8   34   6   17  1  \n",
    "Escribe un número: 3  \n",
    "La lista resultante es: 0   1   5  \n",
    "~~~\n",
    "OPERACION devolverá la lista  [0, 1, 5],  ya que las diferencias entre los valores de las posiciones 0, 1 y 5 de las listas A y B son menores o iguales que 3.\n",
    "\n",
    "\n"
   ]
  },
  {
   "cell_type": "code",
   "execution_count": 9,
   "metadata": {},
   "outputs": [
    {
     "name": "stdout",
     "output_type": "stream",
     "text": [
      "Introduzca una lista: \n",
      "3\n",
      "6\n",
      "7\n",
      "2\n",
      "8\n",
      "4\n",
      "Introduzca una lista: \n",
      "1\n",
      "8\n",
      "34\n",
      "6\n",
      "17\n",
      "1\n",
      "Escribe un número: 3\n",
      "0 1 5 "
     ]
    }
   ],
   "source": [
    "N= 6\n",
    "def lee_lista(lista):\n",
    "    print(\"Introduzca una lista: \")\n",
    "    for i in range(N):\n",
    "        lista.append(int(input()))\n",
    "    return lista\n",
    "def operacion(a,b,k,c):\n",
    "    for i in range(N):\n",
    "        diferencia= a[i]-b[i]\n",
    "        if diferencia<0:\n",
    "            diferencia= -diferencia\n",
    "        if diferencia<=k:\n",
    "            c.append(i)\n",
    "    return c\n",
    "def escritura(lista):\n",
    "    for i in range(len(lista)):\n",
    "        print(lista[i],end=' ')\n",
    "    return\n",
    "a= []\n",
    "a= lee_lista(a)\n",
    "b= []\n",
    "b= lee_lista(b)\n",
    "c=[]\n",
    "k= int(input(\"Escribe un número: \"))\n",
    "c=operacion(a,b,k,c)\n",
    "escritura(c)"
   ]
  },
  {
   "cell_type": "markdown",
   "metadata": {},
   "source": [
    "### P5_14.  \n",
    "\n",
    "Diseña las funciones **suma_cuadrado_sup** y **suma_cuadrado_inf**. La primera tomará la matriz  cuadrada **m**(**N**x**N**), (**N** constante conocida)  y un valor entero **sup** y devolverá la suma de los valores de la matriz que están en una posición cuya fila y columna sean menores o iguales que **sup** y la segunda tomará la matriz **m** y otro valor **inf** y devolverá la suma de los valores de la matriz cuya fila y columna sean mayores o iguales que **inf**.\n",
    "Además tenemos una función **lectura** que lee desde teclado una matriz **m**(**N**x**N**). Escribe finalmente un programa principal que utilizando las funciones anteriores, lea una matriz  y dos enteros y nos devuelva en pantalla la diferencia en valor absoluto de las sumas realizadas.\n",
    "Ejemplo (para **N**=7): \n",
    "~~~\n",
    "Escribe una matriz 7x7:  \n",
    "    \n",
    "   3    4    2    1    0    6    2\n",
    "   6    8    1    1    3    8    0\n",
    "   3    4    1    7    2    3    5\n",
    "   5    2    6    4    5    8    1\n",
    "   4    1    4    5    8    1    1\n",
    "   6    2    4    2    8    5    6\n",
    "   7    3    5    2    2    3    1  \n",
    "   \n",
    "Escribe el extremo superior (sup): 2\n",
    "Escribe el extremo inferior (inf): 5\n",
    "El resultado es: 17\n",
    "   ~~~\n",
    "Llamando a **suma_cuadrado_sup**, obtenemos 32 y llamando a **suma_cuadrado_inf** obtenemos 15. Por tanto, la diferencia en valor absoluto es 17.   \n",
    "\n",
    "   **3   4   2**   1   0   6   2  \n",
    "   **6\t8\t1**\t1      \t3\t8\t0  \n",
    "   **3\t4\t1**\t7\t2\t3\t5  \n",
    "     5\t2\t6\t4\t5\t8\t1      \n",
    "   4\t1\t4\t5\t8\t1\t1  \n",
    "   6\t2\t4\t2\t8\t**5\t 6**  \n",
    "   7\t3\t5\t2\t2\t**3\t 1**  \n",
    "\n",
    "\n"
   ]
  },
  {
   "cell_type": "code",
   "execution_count": null,
   "metadata": {},
   "outputs": [],
   "source": [
    "# Escribe aquí tu programa\n",
    "m = [[3, 4, 2, 1, 0, 6, 2], [6, 8, 1, 1, 3, 8, 0], [3, 4, 1, 7, 2, 3, 5],\n",
    "     [5, 2, 6, 4, 5, 8, 1], [4, 1, 4, 5, 8, 1, 1], [6, 2, 4, 2, 8, 5, 6], \n",
    "     [7, 3, 5, 2, 2, 3, 1]]\n"
   ]
  },
  {
   "cell_type": "markdown",
   "metadata": {},
   "source": [
    "### P5_15.  \n",
    "\n",
    "Diseña una función que tome tres palabras y devuelva un booleano diciéndonos si la tercera palabra se puede formar combinando letras de las otras dos. Si la función recibe las palabras **'LACA'**, **'REMO'** Y **'MACERO'**, devolverá **True**.  \n",
    "Si la función recibe las palabras **'LACA'**, **'REMO'** Y **'CAMELLO'**, devolverá **False** ya que nos falta una **'L'**.   \n",
    "El programa principal leera ahora una frase y llamando a la función nos dirá si cada palabra (a partir de la tercera) se puede formar con las dos que le preceden.  \n",
    "Ejemplo:  \n",
    "~~~\n",
    "Escribe una frase:  Esta masa verde es claramente rala\n",
    "False\n",
    "True\n",
    "False\n",
    "True\n",
    "   ~~~\n",
    "'es' se puede formar combinando letras de 'masa' y 'verde'.  \n",
    "'rala' se puede formar combinando letras de 'es' y 'claramente'."
   ]
  },
  {
   "cell_type": "code",
   "execution_count": 16,
   "metadata": {},
   "outputs": [
    {
     "ename": "IndentationError",
     "evalue": "expected an indented block (<ipython-input-16-0058dd2cc0c4>, line 7)",
     "output_type": "error",
     "traceback": [
      "\u001b[1;36m  File \u001b[1;32m\"<ipython-input-16-0058dd2cc0c4>\"\u001b[1;36m, line \u001b[1;32m7\u001b[0m\n\u001b[1;33m    def esta_en(lista_a,lista_b,respuesta):\u001b[0m\n\u001b[1;37m                                           ^\u001b[0m\n\u001b[1;31mIndentationError\u001b[0m\u001b[1;31m:\u001b[0m expected an indented block\n"
     ]
    }
   ],
   "source": [
    "def esta_en(lista_a,lista_b,respuesta):\n",
    "    for i in range lista_b[1]:\n",
    "        if i in lista_a:\n",
    "            lista_a.remove(i)\n",
    "        elif i not in lista_a:\n",
    "            respuesta=\"false\"\n",
    "            break\n",
    "    return respuesta\n",
    "print(\"Introduce tres palabras: \")\n",
    "for i in range(2):\n",
    "    palabras=input()\n",
    "    a.append(palabras)\n",
    "palabras=input()\n",
    "b.append(palabras)\n",
    "respuesta=\"true\"\n",
    "esta_en(a,b,respuesta)\n",
    "print(respuesta)"
   ]
  }
 ],
 "metadata": {
  "kernelspec": {
   "display_name": "Python 3",
   "language": "python",
   "name": "python3"
  },
  "language_info": {
   "codemirror_mode": {
    "name": "ipython",
    "version": 3
   },
   "file_extension": ".py",
   "mimetype": "text/x-python",
   "name": "python",
   "nbconvert_exporter": "python",
   "pygments_lexer": "ipython3",
   "version": "3.7.3"
  }
 },
 "nbformat": 4,
 "nbformat_minor": 2
}
