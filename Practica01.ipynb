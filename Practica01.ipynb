{
 "cells": [
  {
   "cell_type": "markdown",
   "metadata": {},
   "source": [
    "# Práctica 01. Entorno Python 3.7"
   ]
  },
  {
   "cell_type": "markdown",
   "metadata": {},
   "source": [
    "A lo largo del curso, usaremos el **Notebook** y el programa **Python3.7** que ya está instalado en las aulas para hacer nuestras prácticas. Descargaremos el archivo correspondiente a la práctica, con extensión **ipynb** y una vez completado, lo subiremos según las instrucciones."
   ]
  },
  {
   "cell_type": "markdown",
   "metadata": {},
   "source": [
    "## Primer programa"
   ]
  },
  {
   "cell_type": "markdown",
   "metadata": {},
   "source": [
    "Empezaremos ejecutando el siguiente programa escrito en Python. Para ejecutarlo debes colocarte en la celda siguiente y pulsar el icono **>|** de la barra de herramientas, usar el comando **Run cells** del menu superior Cell o usar el atajo de teclado **Ctrl + Enter**."
   ]
  },
  {
   "cell_type": "code",
   "execution_count": 1,
   "metadata": {},
   "outputs": [
    {
     "ename": "SyntaxError",
     "evalue": "EOL while scanning string literal (<ipython-input-1-859c6e4645fd>, line 1)",
     "output_type": "error",
     "traceback": [
      "\u001b[1;36m  File \u001b[1;32m\"<ipython-input-1-859c6e4645fd>\"\u001b[1;36m, line \u001b[1;32m1\u001b[0m\n\u001b[1;33m    print ('Hola Mundo)\u001b[0m\n\u001b[1;37m                       ^\u001b[0m\n\u001b[1;31mSyntaxError\u001b[0m\u001b[1;31m:\u001b[0m EOL while scanning string literal\n"
     ]
    }
   ],
   "source": [
    "print ('Hola Mundo)"
   ]
  },
  {
   "cell_type": "markdown",
   "metadata": {},
   "source": [
    "Como puedes comprobar, ha habido un error de de sintaxis. Soluciónalo y vuelve a ejecutarlo."
   ]
  },
  {
   "cell_type": "markdown",
   "metadata": {},
   "source": [
    "## Ejercicios"
   ]
  },
  {
   "cell_type": "markdown",
   "metadata": {},
   "source": [
    "Vamos a realizar algunos ejercicios para ir familiarizándonos con el programa.\n",
    "\n",
    "Ejecuta el siguiente programa. Cuando lo solicite, introduce un número y pulsa **Enter**"
   ]
  },
  {
   "cell_type": "code",
   "execution_count": 2,
   "metadata": {},
   "outputs": [
    {
     "name": "stdout",
     "output_type": "stream",
     "text": [
      "Introduce un número:\n",
      "El número introducido es el \n"
     ]
    }
   ],
   "source": [
    "#Este programa pide un número y lo imprime en pantalla\n",
    "\n",
    "n = input ('Introduce un número:')\n",
    "print ('El número introducido es el',n)"
   ]
  },
  {
   "cell_type": "markdown",
   "metadata": {},
   "source": [
    "Esta es la forma mas sencilla de solicitar datos por pantalla e imprimirlos.   \n",
    "\n",
    "### P1_01. \n",
    "Prueba a realizar un programa que utilizando dos variables funcione de la siguiente manera:\n",
    "~~~\n",
    " Por favor, introduce un número: 4  \n",
    " Por favor, introduce otro número: 5   \n",
    " Los números introducidos son el 4 y el 5  \n",
    "~~~"
   ]
  },
  {
   "cell_type": "code",
   "execution_count": 7,
   "metadata": {},
   "outputs": [
    {
     "name": "stdout",
     "output_type": "stream",
     "text": [
      "Por favor, introduce un número4\n",
      "Por favor, introduce otro número5\n",
      "Los números introducidos son el 4 y el 5\n"
     ]
    }
   ],
   "source": [
    "n1= input(\"Por favor, introduce un número\")\n",
    "n2= input(\"Por favor, introduce otro número\")\n",
    "print(\"Los números introducidos son el {} y el {}\" .format(n1, n2))\n"
   ]
  },
  {
   "cell_type": "markdown",
   "metadata": {},
   "source": [
    "### P1_02.\n",
    "Escribe un programa que lea dos caracteres introducidos por el usuario desde el teclado y los escriba en una misma sentencia  \n",
    "Ejemplo:\n",
    "~~~\n",
    "Por favor, introduce un carácter: a \n",
    "Por favor, introduce otro carácter: z\n",
    "Los caracteres introducidos son a y z\n",
    "~~~\n"
   ]
  },
  {
   "cell_type": "code",
   "execution_count": 8,
   "metadata": {},
   "outputs": [
    {
     "name": "stdout",
     "output_type": "stream",
     "text": [
      "Por favor, introduce un caráctera\n",
      "Por favor, introduce otro carácterz\n",
      "Los caracteres introducidos son a y z\n"
     ]
    }
   ],
   "source": [
    "a= input(\"Por favor, introduce un carácter\")\n",
    "z= input(\"Por favor, introduce otro carácter\")\n",
    "print(\"Los caracteres introducidos son {} y {}\".format(a, z))"
   ]
  },
  {
   "cell_type": "markdown",
   "metadata": {},
   "source": [
    "Probemos algunas operaciones aritméticas sencillas  \n",
    "\n",
    "Ejecuta el programa de la siguiente celda, que intuitivamente debería funcionar de la siguiente manera:    \n",
    "~~~\n",
    "Por favor, introduce un número: 4  \n",
    "Por favor, introduce otro número: 5  \n",
    "La suma de los números introducidos es 9  \n",
    "~~~"
   ]
  },
  {
   "cell_type": "code",
   "execution_count": 9,
   "metadata": {},
   "outputs": [
    {
     "name": "stdout",
     "output_type": "stream",
     "text": [
      "Por favor, introduce un número:4\n",
      "Por favor, introduce otro número:5\n",
      "la suma de los números introducidos es 45\n"
     ]
    }
   ],
   "source": [
    "# Hace la suma de dos variables\n",
    "\n",
    "n = input ('Por favor, introduce un número:')\n",
    "m = input ('Por favor, introduce otro número:')\n",
    "print ('la suma de los números introducidos es',n + m)"
   ]
  },
  {
   "cell_type": "markdown",
   "metadata": {},
   "source": [
    "Como puedes comprobar, la respuesta es 45 y no 9. ¿Qué ha ocurrido?  \n",
    "El comando *input* almacena lo que introducimos por teclado como **texto**.  \n",
    "debemos indicar al programa que queremos trabajar con números usando la conversión a entero (**int**) o a real (**float**).   \n",
    "Podemos hacerlo de dos formas  \n",
    "Directamente: \n",
    "~~~\n",
    "n = int(input('Por favor, introduce un número:'))\n",
    "~~~\n",
    "o en dos pasos:  \n",
    "~~~\n",
    "n = input ('Por favor, introduce un número:')    \n",
    "n = int (n)\n",
    "~~~\n",
    "### P1_03.\n",
    "Introduce en la siguiente celda el programa anterior modificado para que funcione correctamente."
   ]
  },
  {
   "cell_type": "code",
   "execution_count": 10,
   "metadata": {},
   "outputs": [
    {
     "name": "stdout",
     "output_type": "stream",
     "text": [
      "Por favor, introduce un número:4\n",
      "Por favor, introduce otro número:5\n",
      "la suma de los números introducidos es 9\n"
     ]
    }
   ],
   "source": [
    "n = int(input ('Por favor, introduce un número:'))\n",
    "m = int(input ('Por favor, introduce otro número:'))\n",
    "print ('la suma de los números introducidos es',n + m)\n"
   ]
  },
  {
   "cell_type": "markdown",
   "metadata": {},
   "source": [
    "### P1_04.\n",
    "Escribe un programa que lea tu edad  (o la edad que tendrás al finalizar este año) y muestre en el monitor el año de tu nacimiento.  \n",
    "Por favor, crea una variable que almacene tu edad, pero no crees otra para almacenar el año.  \n",
    "Ejemplo:\n",
    "~~~\n",
    "\tPor favor, introduce tu edad: 18 \n",
    "\tNaciste en 2000\n",
    "~~~\n"
   ]
  },
  {
   "cell_type": "code",
   "execution_count": 12,
   "metadata": {},
   "outputs": [
    {
     "name": "stdout",
     "output_type": "stream",
     "text": [
      "Por favor, introduce tu edad 18\n",
      "Naciste en el año 2001\n"
     ]
    }
   ],
   "source": [
    "edad= int(input(\"Por favor, introduce tu edad \"))\n",
    "m= int(2019)\n",
    "año= print(\"Naciste en el año\", m - edad)"
   ]
  },
  {
   "cell_type": "markdown",
   "metadata": {},
   "source": [
    "### P1_05.  \n",
    "Escribe un programa que lea dos números y muestre en pantalla su suma, resta y multiplicación. Por favor, crea una variable para almacenar cada operación.  \n",
    "Ejemplo:\n",
    "~~~\n",
    "Por favor, introduce un número: 10  \n",
    "Por favor, introduce otro número: 5.4  \n",
    "Su suma es 15.4, la resta es 4.6 y la multiplicación es 54.0  \n",
    "~~~\n",
    "Ten en cuenta que 5.4 es un número real (float)."
   ]
  },
  {
   "cell_type": "code",
   "execution_count": 15,
   "metadata": {},
   "outputs": [
    {
     "name": "stdout",
     "output_type": "stream",
     "text": [
      "Por favor, introduce un número 10\n",
      "Por favor, introduce otro número 5.4\n",
      "Su suma es 15.4, la resta es 4.6 y la multiplicación es 54.0\n"
     ]
    }
   ],
   "source": [
    "m= int(input(\"Por favor, introduce un número \"))\n",
    "n= float(input(\"Por favor, introduce otro número \"))\n",
    "suma= m + n\n",
    "resta= m - n\n",
    "multiplicación= m * n\n",
    "print(\"Su suma es {}, la resta es {} y la multiplicación es {}\".format(suma, resta, multiplicación))"
   ]
  },
  {
   "cell_type": "markdown",
   "metadata": {},
   "source": [
    "### P1_06.\n",
    "Escribe un programa que lea dos números desde teclado y muestre la división entera y la división real de los mismos.  \n",
    "Debes usar los operadores   **/**  (división real)   y   **//**  (división entera).  \n",
    "Ejemplo:  \n",
    "~~~\n",
    "\tPor favor, introduce un número: 10\n",
    "\tPor favor, introduce otro número: 3\n",
    "\tLa división entera es  3 y la división real es 3.3333333333333335\n",
    "~~~\n"
   ]
  },
  {
   "cell_type": "code",
   "execution_count": 18,
   "metadata": {},
   "outputs": [
    {
     "name": "stdout",
     "output_type": "stream",
     "text": [
      "Por favor, introduce un número: 10\n",
      "Por favor, introduce otro número: 3\n",
      "La división entera es 3.0 y la división real es 3.3333333333333335\n"
     ]
    }
   ],
   "source": [
    "a= float(input(\"Por favor, introduce un número: \"))\n",
    "b= float(input(\"Por favor, introduce otro número: \"))\n",
    "print(\"La división entera es {0} y la división real es {1}\".format(a//b, a/b))\n"
   ]
  },
  {
   "cell_type": "markdown",
   "metadata": {},
   "source": [
    "Si queremos controlar la posición y el número de decimales podemos usar **print** con la opción **format**   \n",
    "Ejecuta la siguiente celda y observa su funcionamiento\n",
    "\n",
    "\n"
   ]
  },
  {
   "cell_type": "code",
   "execution_count": 19,
   "metadata": {},
   "outputs": [
    {
     "name": "stdout",
     "output_type": "stream",
     "text": [
      "División de 10 entre 3 con dos decimales: 3.33\n",
      "División de 10 entre 3 con cuatro decimales ocupando 10 espacios :     3.3333\n",
      "División de     10 entre            3 sin decimales: 3\n"
     ]
    }
   ],
   "source": [
    "#Escribe números en distintos formatos\n",
    "\n",
    "print('División de {} entre {} con dos decimales: {:.2f}'.format(10 ,3, 10 / 3) )\n",
    "print('División de {} entre {} con cuatro decimales ocupando 10 espacios : {:10.4f}'.format(10 ,3, 10 / 3) )\n",
    "print('División de {:6} entre {:12} sin decimales: {:.0f}'.format(10 ,3, 10 / 3) )\n",
    "\n"
   ]
  },
  {
   "cell_type": "markdown",
   "metadata": {},
   "source": [
    "### P1_07.\n",
    "Modifica el programa del apartado **P1_06** para que la solución tenga solo 3 decimales"
   ]
  },
  {
   "cell_type": "code",
   "execution_count": 20,
   "metadata": {},
   "outputs": [
    {
     "name": "stdout",
     "output_type": "stream",
     "text": [
      "División de 10 entre 3 con dos decimales: 3.333\n"
     ]
    }
   ],
   "source": [
    "print('División de {} entre {} con dos decimales: {:.3f}'.format(10 ,3, 10 / 3) )\n"
   ]
  },
  {
   "cell_type": "markdown",
   "metadata": {},
   "source": [
    "### P1_08.\n",
    "Corrige los errores del siguiente programa y pruébalo para los siguientes valores:  \n",
    "1. Monedas de 50: 4, monedas de 20: 7 y monedas de 10: 5  \n",
    "Debes obtener como resultado:\n",
    "~~~\n",
    "    En total tengo 390 céntimos\n",
    "    En euros son 3.9 Euros\n",
    "~~~\n",
    "\n",
    "2. Monedas de 50: 1, monedas de 20: 2 y monedas de 10: tres (en texto)"
   ]
  },
  {
   "cell_type": "code",
   "execution_count": 28,
   "metadata": {},
   "outputs": [
    {
     "name": "stdout",
     "output_type": "stream",
     "text": [
      "Introduce cuántas monedas de 50cts. tienes: 4\n",
      "Introduce cuántas monedas de 20cts. tienes: 7\n",
      "Por último, dime cuántas monedas de 10cts. tienes: 5\n",
      "En total tengo 390 céntimos\n",
      "En euros son 3.9 Euros\n"
     ]
    }
   ],
   "source": [
    "# Programa que calcula el dinero que tenemos en céntimos y Euros\n",
    "\n",
    "v_50 = 50\n",
    "v_20 = 20\n",
    "v_10 = 10\n",
    "m50 = int(input('Introduce cuántas monedas de 50cts. tienes: '))\n",
    "m20 = int(input('Introduce cuántas monedas de 20cts. tienes: '))\n",
    "m10 = int(input('Por último, dime cuántas monedas de 10cts. tienes: '))\n",
    "dinero = m50 * v_50 + m20 * v_20 + m10 * v_10\n",
    "print ('En total tengo {} céntimos'.format(dinero))\n",
    "euros = dinero / 100\n",
    "print ('En euros son {} Euros'.format(euros))\n",
    "\n",
    "#Explica brevemente en las siguientes líneas comentadas por qué no funciona el caso 2\n",
    "# Ya que tres es un caracter y no una constante, debería de introducir 3 el usuario\n"
   ]
  },
  {
   "cell_type": "markdown",
   "metadata": {},
   "source": [
    "### P1_09.\n",
    "Crea un programa que pida una cantidad de dinero en Euros y nos devuelva el valor de dicha cantidad en Dólares. (Consideramos  el cambio 1€=1.11$)"
   ]
  },
  {
   "cell_type": "code",
   "execution_count": 31,
   "metadata": {},
   "outputs": [
    {
     "name": "stdout",
     "output_type": "stream",
     "text": [
      "Introduzca la cantidad de dinero que posee en Euros: 15.5\n",
      "La cantidad de dinero que usted tiene en dólares es:  17.205000000000002\n"
     ]
    }
   ],
   "source": [
    "dinero= float(input(\"Introduzca la cantidad de dinero que posee en Euros: \"))\n",
    "dólares= dinero * 1.11\n",
    "print(\"La cantidad de dinero que usted tiene en dólares es: \", dólares)\n"
   ]
  },
  {
   "cell_type": "markdown",
   "metadata": {},
   "source": [
    "### P1_10.\n",
    "Calcula el volumen de un cilindro cuyo radio y altura leerás desde teclado."
   ]
  },
  {
   "cell_type": "code",
   "execution_count": 33,
   "metadata": {},
   "outputs": [
    {
     "name": "stdout",
     "output_type": "stream",
     "text": [
      "Introduzca el valor de la variable radio: 5\n",
      "Introduzca el valor de la variable altura: 3.5\n",
      "El volumen de su cilindro es  274.88935718910693\n"
     ]
    }
   ],
   "source": [
    "from math import pi\n",
    "radio= float(input(\"Introduzca el valor de la variable radio: \"))\n",
    "altura= float(input(\"Introduzca el valor de la variable altura: \"))\n",
    "print(\"El volumen de su cilindro es \", (pi*radio**2)*altura)"
   ]
  },
  {
   "cell_type": "code",
   "execution_count": null,
   "metadata": {},
   "outputs": [],
   "source": []
  }
 ],
 "metadata": {
  "kernelspec": {
   "display_name": "Python 3",
   "language": "python",
   "name": "python3"
  },
  "language_info": {
   "codemirror_mode": {
    "name": "ipython",
    "version": 3
   },
   "file_extension": ".py",
   "mimetype": "text/x-python",
   "name": "python",
   "nbconvert_exporter": "python",
   "pygments_lexer": "ipython3",
   "version": "3.7.3"
  }
 },
 "nbformat": 4,
 "nbformat_minor": 2
}
